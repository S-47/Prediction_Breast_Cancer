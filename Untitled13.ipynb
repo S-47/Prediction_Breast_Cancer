{
  "nbformat": 4,
  "nbformat_minor": 0,
  "metadata": {
    "colab": {
      "provenance": [],
      "include_colab_link": true
    },
    "kernelspec": {
      "name": "python3",
      "display_name": "Python 3"
    },
    "language_info": {
      "name": "python"
    }
  },
  "cells": [
    {
      "cell_type": "markdown",
      "metadata": {
        "id": "view-in-github",
        "colab_type": "text"
      },
      "source": [
        "<a href=\"https://colab.research.google.com/github/S-47/Prediction_Breast_Cancer/blob/main/Untitled13.ipynb\" target=\"_parent\"><img src=\"https://colab.research.google.com/assets/colab-badge.svg\" alt=\"Open In Colab\"/></a>"
      ]
    },
    {
      "cell_type": "code",
      "execution_count": 82,
      "metadata": {
        "id": "NLCOsXUmC5lq"
      },
      "outputs": [],
      "source": [
        "import numpy as np\n",
        "import pandas as pd\n",
        "import matplotlib.pyplot as plt\n",
        "from sklearn.model_selection import StratifiedKFold, cross_val_score\n",
        "from sklearn.preprocessing import  LabelEncoder, StandardScaler\n",
        "from sklearn.model_selection import train_test_split\n",
        "from sklearn import svm\n",
        "from sklearn.linear_model import LogisticRegression\n",
        "from sklearn.neighbors import KNeighborsClassifier\n",
        "from sklearn.ensemble import RandomForestClassifier, AdaBoostClassifier, GradientBoostingClassifier\n",
        "from sklearn.svm import SVC\n",
        "from imblearn.over_sampling import RandomOverSampler\n",
        "from statistics import mean\n",
        "import seaborn as sns\n",
        "import pickle\n",
        "import joblib\n",
        "from sklearn.metrics import recall_score, accuracy_score, precision_score,jaccard_score, f1_score, classification_report, confusion_matrix, ConfusionMatrixDisplay, roc_curve, roc_auc_score\n",
        "from imblearn.over_sampling import SMOTE\n",
        "from sklearn import linear_model, decomposition, datasets\n",
        "from imblearn.pipeline import Pipeline, make_pipeline\n",
        "from sklearn.model_selection import GridSearchCV\n",
        "from sklearn.decomposition import PCA\n",
        "import warnings"
      ]
    },
    {
      "cell_type": "code",
      "source": [
        "from google.colab import drive\n",
        "drive.mount('/content/drive')"
      ],
      "metadata": {
        "colab": {
          "base_uri": "https://localhost:8080/"
        },
        "id": "N3Mhf3NWQbrU",
        "outputId": "7735cb34-0ad5-43a9-8cfc-ce007d3abbde"
      },
      "execution_count": 2,
      "outputs": [
        {
          "output_type": "stream",
          "name": "stdout",
          "text": [
            "Mounted at /content/drive\n"
          ]
        }
      ]
    },
    {
      "cell_type": "code",
      "source": [
        "df=pd.read_csv('/content/drive/MyDrive/Cancer_Dataset.csv')"
      ],
      "metadata": {
        "id": "cMyRoJT2Da2V"
      },
      "execution_count": 3,
      "outputs": []
    },
    {
      "cell_type": "code",
      "source": [
        "df.drop_duplicates(inplace=True)"
      ],
      "metadata": {
        "id": "My9Faak2Da7q"
      },
      "execution_count": 4,
      "outputs": []
    },
    {
      "cell_type": "code",
      "source": [
        "le =LabelEncoder()\n",
        "def Encoder(df):\n",
        "          columnsToEncode = list(df.select_dtypes(include=['category','object']))\n",
        "          for feature in columnsToEncode:\n",
        "              try:\n",
        "                  df[feature] =le.fit_transform(df[feature])\n",
        "              except:\n",
        "                  print('Error encoding '+feature)\n",
        "          return df"
      ],
      "metadata": {
        "id": "38zOslMADh7I"
      },
      "execution_count": 5,
      "outputs": []
    },
    {
      "cell_type": "code",
      "source": [
        "Encoder(df)"
      ],
      "metadata": {
        "colab": {
          "base_uri": "https://localhost:8080/",
          "height": 487
        },
        "id": "PjPK9acwD9Iw",
        "outputId": "a7289a74-d20e-4290-9930-5fecf396cbe6"
      },
      "execution_count": 6,
      "outputs": [
        {
          "output_type": "execute_result",
          "data": {
            "text/plain": [
              "      Age  Race  Marital_Status  T_Stage  N_Stage  Stage_6  differentiate  \\\n",
              "0      68     2               1        0        0        0              1   \n",
              "1      50     2               1        1        1        2              0   \n",
              "2      58     2               0        2        2        4              0   \n",
              "3      58     2               1        0        0        0              1   \n",
              "4      47     2               1        1        0        1              1   \n",
              "...   ...   ...             ...      ...      ...      ...            ...   \n",
              "4018   62     1               1        0        0        0              0   \n",
              "4019   56     2               0        1        1        2              0   \n",
              "4020   68     2               1        1        0        1              0   \n",
              "4021   58     0               0        1        0        1              0   \n",
              "4022   46     2               1        1        0        1              0   \n",
              "\n",
              "      Grade  A_Stage  Tumor_Size  Estrogen_Status  Progesterone_Status  \\\n",
              "0         3        1           4                1                    1   \n",
              "1         2        1          35                1                    1   \n",
              "2         2        1          63                1                    1   \n",
              "3         3        1          18                1                    1   \n",
              "4         3        1          41                1                    1   \n",
              "...     ...      ...         ...              ...                  ...   \n",
              "4018      2        1           9                1                    1   \n",
              "4019      2        1          46                1                    1   \n",
              "4020      2        1          22                1                    0   \n",
              "4021      2        1          44                1                    1   \n",
              "4022      2        1          30                1                    1   \n",
              "\n",
              "      Regional_Node_Examined  Regional_Node_Positive  Survival_Months  Status  \n",
              "0                         24                       1               60       0  \n",
              "1                         14                       5               62       0  \n",
              "2                         14                       7               75       0  \n",
              "3                          2                       1               84       0  \n",
              "4                          3                       1               50       0  \n",
              "...                      ...                     ...              ...     ...  \n",
              "4018                       1                       1               49       0  \n",
              "4019                      14                       8               69       0  \n",
              "4020                      11                       3               69       0  \n",
              "4021                      11                       1               72       0  \n",
              "4022                       7                       2              100       0  \n",
              "\n",
              "[4022 rows x 16 columns]"
            ],
            "text/html": [
              "\n",
              "  <div id=\"df-f7c4ccdc-22eb-4b60-ae2b-55d944bbb851\">\n",
              "    <div class=\"colab-df-container\">\n",
              "      <div>\n",
              "<style scoped>\n",
              "    .dataframe tbody tr th:only-of-type {\n",
              "        vertical-align: middle;\n",
              "    }\n",
              "\n",
              "    .dataframe tbody tr th {\n",
              "        vertical-align: top;\n",
              "    }\n",
              "\n",
              "    .dataframe thead th {\n",
              "        text-align: right;\n",
              "    }\n",
              "</style>\n",
              "<table border=\"1\" class=\"dataframe\">\n",
              "  <thead>\n",
              "    <tr style=\"text-align: right;\">\n",
              "      <th></th>\n",
              "      <th>Age</th>\n",
              "      <th>Race</th>\n",
              "      <th>Marital_Status</th>\n",
              "      <th>T_Stage</th>\n",
              "      <th>N_Stage</th>\n",
              "      <th>Stage_6</th>\n",
              "      <th>differentiate</th>\n",
              "      <th>Grade</th>\n",
              "      <th>A_Stage</th>\n",
              "      <th>Tumor_Size</th>\n",
              "      <th>Estrogen_Status</th>\n",
              "      <th>Progesterone_Status</th>\n",
              "      <th>Regional_Node_Examined</th>\n",
              "      <th>Regional_Node_Positive</th>\n",
              "      <th>Survival_Months</th>\n",
              "      <th>Status</th>\n",
              "    </tr>\n",
              "  </thead>\n",
              "  <tbody>\n",
              "    <tr>\n",
              "      <th>0</th>\n",
              "      <td>68</td>\n",
              "      <td>2</td>\n",
              "      <td>1</td>\n",
              "      <td>0</td>\n",
              "      <td>0</td>\n",
              "      <td>0</td>\n",
              "      <td>1</td>\n",
              "      <td>3</td>\n",
              "      <td>1</td>\n",
              "      <td>4</td>\n",
              "      <td>1</td>\n",
              "      <td>1</td>\n",
              "      <td>24</td>\n",
              "      <td>1</td>\n",
              "      <td>60</td>\n",
              "      <td>0</td>\n",
              "    </tr>\n",
              "    <tr>\n",
              "      <th>1</th>\n",
              "      <td>50</td>\n",
              "      <td>2</td>\n",
              "      <td>1</td>\n",
              "      <td>1</td>\n",
              "      <td>1</td>\n",
              "      <td>2</td>\n",
              "      <td>0</td>\n",
              "      <td>2</td>\n",
              "      <td>1</td>\n",
              "      <td>35</td>\n",
              "      <td>1</td>\n",
              "      <td>1</td>\n",
              "      <td>14</td>\n",
              "      <td>5</td>\n",
              "      <td>62</td>\n",
              "      <td>0</td>\n",
              "    </tr>\n",
              "    <tr>\n",
              "      <th>2</th>\n",
              "      <td>58</td>\n",
              "      <td>2</td>\n",
              "      <td>0</td>\n",
              "      <td>2</td>\n",
              "      <td>2</td>\n",
              "      <td>4</td>\n",
              "      <td>0</td>\n",
              "      <td>2</td>\n",
              "      <td>1</td>\n",
              "      <td>63</td>\n",
              "      <td>1</td>\n",
              "      <td>1</td>\n",
              "      <td>14</td>\n",
              "      <td>7</td>\n",
              "      <td>75</td>\n",
              "      <td>0</td>\n",
              "    </tr>\n",
              "    <tr>\n",
              "      <th>3</th>\n",
              "      <td>58</td>\n",
              "      <td>2</td>\n",
              "      <td>1</td>\n",
              "      <td>0</td>\n",
              "      <td>0</td>\n",
              "      <td>0</td>\n",
              "      <td>1</td>\n",
              "      <td>3</td>\n",
              "      <td>1</td>\n",
              "      <td>18</td>\n",
              "      <td>1</td>\n",
              "      <td>1</td>\n",
              "      <td>2</td>\n",
              "      <td>1</td>\n",
              "      <td>84</td>\n",
              "      <td>0</td>\n",
              "    </tr>\n",
              "    <tr>\n",
              "      <th>4</th>\n",
              "      <td>47</td>\n",
              "      <td>2</td>\n",
              "      <td>1</td>\n",
              "      <td>1</td>\n",
              "      <td>0</td>\n",
              "      <td>1</td>\n",
              "      <td>1</td>\n",
              "      <td>3</td>\n",
              "      <td>1</td>\n",
              "      <td>41</td>\n",
              "      <td>1</td>\n",
              "      <td>1</td>\n",
              "      <td>3</td>\n",
              "      <td>1</td>\n",
              "      <td>50</td>\n",
              "      <td>0</td>\n",
              "    </tr>\n",
              "    <tr>\n",
              "      <th>...</th>\n",
              "      <td>...</td>\n",
              "      <td>...</td>\n",
              "      <td>...</td>\n",
              "      <td>...</td>\n",
              "      <td>...</td>\n",
              "      <td>...</td>\n",
              "      <td>...</td>\n",
              "      <td>...</td>\n",
              "      <td>...</td>\n",
              "      <td>...</td>\n",
              "      <td>...</td>\n",
              "      <td>...</td>\n",
              "      <td>...</td>\n",
              "      <td>...</td>\n",
              "      <td>...</td>\n",
              "      <td>...</td>\n",
              "    </tr>\n",
              "    <tr>\n",
              "      <th>4018</th>\n",
              "      <td>62</td>\n",
              "      <td>1</td>\n",
              "      <td>1</td>\n",
              "      <td>0</td>\n",
              "      <td>0</td>\n",
              "      <td>0</td>\n",
              "      <td>0</td>\n",
              "      <td>2</td>\n",
              "      <td>1</td>\n",
              "      <td>9</td>\n",
              "      <td>1</td>\n",
              "      <td>1</td>\n",
              "      <td>1</td>\n",
              "      <td>1</td>\n",
              "      <td>49</td>\n",
              "      <td>0</td>\n",
              "    </tr>\n",
              "    <tr>\n",
              "      <th>4019</th>\n",
              "      <td>56</td>\n",
              "      <td>2</td>\n",
              "      <td>0</td>\n",
              "      <td>1</td>\n",
              "      <td>1</td>\n",
              "      <td>2</td>\n",
              "      <td>0</td>\n",
              "      <td>2</td>\n",
              "      <td>1</td>\n",
              "      <td>46</td>\n",
              "      <td>1</td>\n",
              "      <td>1</td>\n",
              "      <td>14</td>\n",
              "      <td>8</td>\n",
              "      <td>69</td>\n",
              "      <td>0</td>\n",
              "    </tr>\n",
              "    <tr>\n",
              "      <th>4020</th>\n",
              "      <td>68</td>\n",
              "      <td>2</td>\n",
              "      <td>1</td>\n",
              "      <td>1</td>\n",
              "      <td>0</td>\n",
              "      <td>1</td>\n",
              "      <td>0</td>\n",
              "      <td>2</td>\n",
              "      <td>1</td>\n",
              "      <td>22</td>\n",
              "      <td>1</td>\n",
              "      <td>0</td>\n",
              "      <td>11</td>\n",
              "      <td>3</td>\n",
              "      <td>69</td>\n",
              "      <td>0</td>\n",
              "    </tr>\n",
              "    <tr>\n",
              "      <th>4021</th>\n",
              "      <td>58</td>\n",
              "      <td>0</td>\n",
              "      <td>0</td>\n",
              "      <td>1</td>\n",
              "      <td>0</td>\n",
              "      <td>1</td>\n",
              "      <td>0</td>\n",
              "      <td>2</td>\n",
              "      <td>1</td>\n",
              "      <td>44</td>\n",
              "      <td>1</td>\n",
              "      <td>1</td>\n",
              "      <td>11</td>\n",
              "      <td>1</td>\n",
              "      <td>72</td>\n",
              "      <td>0</td>\n",
              "    </tr>\n",
              "    <tr>\n",
              "      <th>4022</th>\n",
              "      <td>46</td>\n",
              "      <td>2</td>\n",
              "      <td>1</td>\n",
              "      <td>1</td>\n",
              "      <td>0</td>\n",
              "      <td>1</td>\n",
              "      <td>0</td>\n",
              "      <td>2</td>\n",
              "      <td>1</td>\n",
              "      <td>30</td>\n",
              "      <td>1</td>\n",
              "      <td>1</td>\n",
              "      <td>7</td>\n",
              "      <td>2</td>\n",
              "      <td>100</td>\n",
              "      <td>0</td>\n",
              "    </tr>\n",
              "  </tbody>\n",
              "</table>\n",
              "<p>4022 rows × 16 columns</p>\n",
              "</div>\n",
              "      <button class=\"colab-df-convert\" onclick=\"convertToInteractive('df-f7c4ccdc-22eb-4b60-ae2b-55d944bbb851')\"\n",
              "              title=\"Convert this dataframe to an interactive table.\"\n",
              "              style=\"display:none;\">\n",
              "        \n",
              "  <svg xmlns=\"http://www.w3.org/2000/svg\" height=\"24px\"viewBox=\"0 0 24 24\"\n",
              "       width=\"24px\">\n",
              "    <path d=\"M0 0h24v24H0V0z\" fill=\"none\"/>\n",
              "    <path d=\"M18.56 5.44l.94 2.06.94-2.06 2.06-.94-2.06-.94-.94-2.06-.94 2.06-2.06.94zm-11 1L8.5 8.5l.94-2.06 2.06-.94-2.06-.94L8.5 2.5l-.94 2.06-2.06.94zm10 10l.94 2.06.94-2.06 2.06-.94-2.06-.94-.94-2.06-.94 2.06-2.06.94z\"/><path d=\"M17.41 7.96l-1.37-1.37c-.4-.4-.92-.59-1.43-.59-.52 0-1.04.2-1.43.59L10.3 9.45l-7.72 7.72c-.78.78-.78 2.05 0 2.83L4 21.41c.39.39.9.59 1.41.59.51 0 1.02-.2 1.41-.59l7.78-7.78 2.81-2.81c.8-.78.8-2.07 0-2.86zM5.41 20L4 18.59l7.72-7.72 1.47 1.35L5.41 20z\"/>\n",
              "  </svg>\n",
              "      </button>\n",
              "      \n",
              "  <style>\n",
              "    .colab-df-container {\n",
              "      display:flex;\n",
              "      flex-wrap:wrap;\n",
              "      gap: 12px;\n",
              "    }\n",
              "\n",
              "    .colab-df-convert {\n",
              "      background-color: #E8F0FE;\n",
              "      border: none;\n",
              "      border-radius: 50%;\n",
              "      cursor: pointer;\n",
              "      display: none;\n",
              "      fill: #1967D2;\n",
              "      height: 32px;\n",
              "      padding: 0 0 0 0;\n",
              "      width: 32px;\n",
              "    }\n",
              "\n",
              "    .colab-df-convert:hover {\n",
              "      background-color: #E2EBFA;\n",
              "      box-shadow: 0px 1px 2px rgba(60, 64, 67, 0.3), 0px 1px 3px 1px rgba(60, 64, 67, 0.15);\n",
              "      fill: #174EA6;\n",
              "    }\n",
              "\n",
              "    [theme=dark] .colab-df-convert {\n",
              "      background-color: #3B4455;\n",
              "      fill: #D2E3FC;\n",
              "    }\n",
              "\n",
              "    [theme=dark] .colab-df-convert:hover {\n",
              "      background-color: #434B5C;\n",
              "      box-shadow: 0px 1px 3px 1px rgba(0, 0, 0, 0.15);\n",
              "      filter: drop-shadow(0px 1px 2px rgba(0, 0, 0, 0.3));\n",
              "      fill: #FFFFFF;\n",
              "    }\n",
              "  </style>\n",
              "\n",
              "      <script>\n",
              "        const buttonEl =\n",
              "          document.querySelector('#df-f7c4ccdc-22eb-4b60-ae2b-55d944bbb851 button.colab-df-convert');\n",
              "        buttonEl.style.display =\n",
              "          google.colab.kernel.accessAllowed ? 'block' : 'none';\n",
              "\n",
              "        async function convertToInteractive(key) {\n",
              "          const element = document.querySelector('#df-f7c4ccdc-22eb-4b60-ae2b-55d944bbb851');\n",
              "          const dataTable =\n",
              "            await google.colab.kernel.invokeFunction('convertToInteractive',\n",
              "                                                     [key], {});\n",
              "          if (!dataTable) return;\n",
              "\n",
              "          const docLinkHtml = 'Like what you see? Visit the ' +\n",
              "            '<a target=\"_blank\" href=https://colab.research.google.com/notebooks/data_table.ipynb>data table notebook</a>'\n",
              "            + ' to learn more about interactive tables.';\n",
              "          element.innerHTML = '';\n",
              "          dataTable['output_type'] = 'display_data';\n",
              "          await google.colab.output.renderOutput(dataTable, element);\n",
              "          const docLink = document.createElement('div');\n",
              "          docLink.innerHTML = docLinkHtml;\n",
              "          element.appendChild(docLink);\n",
              "        }\n",
              "      </script>\n",
              "    </div>\n",
              "  </div>\n",
              "  "
            ]
          },
          "metadata": {},
          "execution_count": 6
        }
      ]
    },
    {
      "cell_type": "code",
      "source": [
        "x_new = df.drop(\"Status\", axis=1)\n",
        "y_new= df[\"Status\"]"
      ],
      "metadata": {
        "id": "mXxXgRvlDh9y"
      },
      "execution_count": 7,
      "outputs": []
    },
    {
      "cell_type": "code",
      "source": [
        "x_train_over, x_test_over, y_train_over, y_test_over= train_test_split(x_new, y_new, test_size=0.2, random_state=42)"
      ],
      "metadata": {
        "id": "hFfxAGwwFZC7"
      },
      "execution_count": 8,
      "outputs": []
    },
    {
      "cell_type": "code",
      "source": [
        "warnings.filterwarnings(\"ignore\")\n",
        "\n",
        "LR=LogisticRegression()\n",
        "\n",
        "\n",
        "pipe_lr= Pipeline ([\n",
        "    ('scaler', StandardScaler()),\n",
        "    ('pca', PCA(n_components=0.95)),\n",
        "    ('oversampling', SMOTE()),\n",
        "    ('LR', LR)\n",
        "])\n",
        "\n",
        "C_list_lr=[0.001, 0.01, 0.5, 0.1, 1, 10, 100 ]\n",
        "solver_list_lr=[ 'liblinear', 'newton-cg', 'saga']\n",
        "penalty_list_lr=[None, 'elasticnet', 'l1', 'l2']\n",
        "max_iter_list_lr=[100, 1000, 3000]\n",
        "random_state_list_lr=[None, 20, 42 ]\n",
        "param_grid_lr = {\n",
        "    'LR__C': C_list_lr, \n",
        "    'LR__solver': solver_list_lr,\n",
        "    'LR__penalty': penalty_list_lr,\n",
        "    'LR__max_iter': max_iter_list_lr,\n",
        "    'LR__random_state': random_state_list_lr\n",
        "}\n",
        "\n",
        "\n",
        "grid_lr = GridSearchCV(pipe_lr, param_grid_lr, cv=5, scoring='balanced_accuracy', return_train_score=False)\n",
        "grid_lr.fit(x_train_over, y_train_over)"
      ],
      "metadata": {
        "colab": {
          "base_uri": "https://localhost:8080/"
        },
        "id": "0GKGzkSLFJkI",
        "outputId": "468300cf-a6aa-411a-f678-764a288caef8"
      },
      "execution_count": 41,
      "outputs": [
        {
          "output_type": "execute_result",
          "data": {
            "text/plain": [
              "GridSearchCV(cv=5,\n",
              "             estimator=Pipeline(steps=[('scaler', StandardScaler()),\n",
              "                                       ('pca', PCA(n_components=0.95)),\n",
              "                                       ('oversampling', SMOTE()),\n",
              "                                       ('LR', LogisticRegression())]),\n",
              "             param_grid={'LR__C': [0.001, 0.01, 0.5, 0.1, 1, 10, 100],\n",
              "                         'LR__max_iter': [100, 1000, 3000],\n",
              "                         'LR__penalty': [None, 'elasticnet', 'l1', 'l2'],\n",
              "                         'LR__random_state': [None, 20, 42],\n",
              "                         'LR__solver': ['liblinear', 'newton-cg', 'saga']},\n",
              "             scoring='balanced_accuracy')"
            ]
          },
          "metadata": {},
          "execution_count": 41
        }
      ]
    },
    {
      "cell_type": "code",
      "source": [
        "print(grid_lr.best_params_)"
      ],
      "metadata": {
        "colab": {
          "base_uri": "https://localhost:8080/"
        },
        "id": "mFnDTyqxFJm1",
        "outputId": "6553f614-aab5-4f5b-d1d7-563766a1cec5"
      },
      "execution_count": 42,
      "outputs": [
        {
          "output_type": "stream",
          "name": "stdout",
          "text": [
            "{'LR__C': 0.5, 'LR__max_iter': 3000, 'LR__penalty': 'l1', 'LR__random_state': None, 'LR__solver': 'liblinear'}\n"
          ]
        }
      ]
    },
    {
      "cell_type": "code",
      "source": [
        "prediction_lr=grid_lr.predict(x_test_over)\n",
        "grid_lr_matrix = confusion_matrix(y_test_over, prediction_lr)\n",
        "\n",
        "plt.figure(figsize=(10,7))\n",
        "p = sns.heatmap(grid_lr_matrix, annot=True, cmap=\"Reds\", fmt='g')\n",
        "plt.title('Matricea de confuzie pentru Logistic Regression ')\n",
        "plt.xlabel('Valori prezise')\n",
        "plt.ylabel('Valori reale')\n",
        "plt.show()"
      ],
      "metadata": {
        "colab": {
          "base_uri": "https://localhost:8080/",
          "height": 458
        },
        "id": "EUazSWdoFJp3",
        "outputId": "b3fd6cf1-fddd-4de9-94c4-6d328aa149e0"
      },
      "execution_count": 43,
      "outputs": [
        {
          "output_type": "display_data",
          "data": {
            "text/plain": [
              "<Figure size 720x504 with 2 Axes>"
            ],
            "image/png": "[encoded data removed]"
          },
          "metadata": {
            "needs_background": "light"
          }
        }
      ]
    },
    {
      "cell_type": "code",
      "source": [
        "acc_score_lr=round(accuracy_score(y_test_over, prediction_lr),2)\n",
        "jaccard_score_lr=round(jaccard_score(y_test_over , prediction_lr),2)\n",
        "f1_score_lr=round(f1_score(y_test_over, prediction_lr),2)\n",
        "precision_score_lr=round(precision_score(y_test_over , prediction_lr),2)\n",
        "recall_score_lr=round(recall_score(y_test_over , prediction_lr),2)"
      ],
      "metadata": {
        "id": "nJeRsGOBFJsm"
      },
      "execution_count": 44,
      "outputs": []
    },
    {
      "cell_type": "code",
      "source": [
        "def show_scores(scores, names):\n",
        "    sns.heatmap(scores.T,annot=True, fmt='g', xticklabels=names, yticklabels=['Accuracy', 'Precision', 'Recall', 'F1', 'Jaccard'])\n",
        "    plt.title('Scores')\n",
        "    plt.show()\n",
        "\n",
        "scores = np.array([[acc_score_lr, precision_score_lr, recall_score_lr, f1_score_lr, jaccard_score_lr]]) #,[rand_forest_clf_precision, rand_forest_clf_recall,rand_forest_clf_f1],\n",
        "   # [sgd_clf_precision, sgd_clf_recall,sgd_clf_f1],[svc_clf_precision, svc_clf_recall,svc_clf_f1],[knn_clf_precision, knn_clf_recall, knn_clf_f1]])\n",
        "\n",
        "show_scores(scores,['Logistic Regression']) "
      ],
      "metadata": {
        "colab": {
          "base_uri": "https://localhost:8080/",
          "height": 281
        },
        "id": "O-diBywrFJzq",
        "outputId": "73b9a75d-a1c4-44e0-e497-ca14eec098ba"
      },
      "execution_count": 45,
      "outputs": [
        {
          "output_type": "display_data",
          "data": {
            "text/plain": [
              "<Figure size 432x288 with 2 Axes>"
            ],
            "image/png": "[encoded data removed]"
          },
          "metadata": {
            "needs_background": "light"
          }
        }
      ]
    },
    {
      "cell_type": "code",
      "source": [
        "raport_lr = classification_report(y_test_over, prediction_lr)\n",
        "print(raport_lr)"
      ],
      "metadata": {
        "colab": {
          "base_uri": "https://localhost:8080/"
        },
        "id": "RoQ_7oy8KgL_",
        "outputId": "31fd588a-297a-41f2-f2e2-e406a71765ef"
      },
      "execution_count": 46,
      "outputs": [
        {
          "output_type": "stream",
          "name": "stdout",
          "text": [
            "              precision    recall  f1-score   support\n",
            "\n",
            "           0       0.96      0.78      0.86       683\n",
            "           1       0.40      0.81      0.54       122\n",
            "\n",
            "    accuracy                           0.79       805\n",
            "   macro avg       0.68      0.80      0.70       805\n",
            "weighted avg       0.87      0.79      0.81       805\n",
            "\n"
          ]
        }
      ]
    },
    {
      "cell_type": "code",
      "source": [
        "prediction_prob_lr = grid_lr.predict_proba(x_test_over)[:,1]\n",
        "false_positive_lr, true_positive_lr, threshold1 = roc_curve(y_test_over, prediction_prob_lr)\n",
        "auc_lr = roc_auc_score(y_test_over, prediction_prob_lr)\n",
        "plt.plot(false_positive_lr, true_positive_lr,label=\"AUC=\"+str(auc_lr))\n",
        "plt.ylabel('False Negative Rate (Specificity)')\n",
        "plt.xlabel('False Positive Rate (Sensitivity)')\n",
        "plt.title(\"ROC Curve For LR \")\n",
        "plt.legend(loc=5)\n",
        "plt.show()"
      ],
      "metadata": {
        "id": "ncLDRGcWNi8A",
        "colab": {
          "base_uri": "https://localhost:8080/",
          "height": 295
        },
        "outputId": "311c9efb-c354-4afa-cdbe-a995ed900653"
      },
      "execution_count": 71,
      "outputs": [
        {
          "output_type": "display_data",
          "data": {
            "text/plain": [
              "<Figure size 432x288 with 1 Axes>"
            ],
            "image/png": "[encoded data removed]"
          },
          "metadata": {
            "needs_background": "light"
          }
        }
      ]
    },
    {
      "cell_type": "code",
      "source": [],
      "metadata": {
        "id": "YqZl8xjGKgOl"
      },
      "execution_count": null,
      "outputs": []
    },
    {
      "cell_type": "code",
      "source": [],
      "metadata": {
        "id": "xAOwYWCqETE6"
      },
      "execution_count": null,
      "outputs": []
    },
    {
      "cell_type": "code",
      "source": [],
      "metadata": {
        "id": "K_3RzHrzLhbk"
      },
      "execution_count": null,
      "outputs": []
    },
    {
      "cell_type": "code",
      "source": [
        "warnings.filterwarnings(\"ignore\")\n",
        "\n",
        "KNN=KNeighborsClassifier()\n",
        "\n",
        "\n",
        "pipe_knn= Pipeline ([\n",
        "    ('scaler', StandardScaler()),\n",
        "    ('pca', PCA(n_components=0.95)),\n",
        "    ('oversampling', SMOTE()),\n",
        "    ('KNN', KNN)\n",
        "])\n",
        "\n",
        "neighbors = list(range(2,31))\n",
        "weights_knn=['uniform', 'distance']\n",
        "metric_knn=['euclidean', 'manhattan', 'l1', 'l2', 'minkowski']\n",
        "p_knn=[1,2]\n",
        "param_grid_knn = {\n",
        "    'KNN__n_neighbors': neighbors, \n",
        "    'KNN__weights': weights_knn,\n",
        "    'KNN__metric': metric_knn,\n",
        "    'KNN__p': p_knn\n",
        "}\n",
        "\n",
        "\n",
        "grid_knn = GridSearchCV(pipe_knn, param_grid_knn, cv=5, scoring='balanced_accuracy',  return_train_score=False)\n",
        "grid_knn.fit(x_train_over, y_train_over)"
      ],
      "metadata": {
        "colab": {
          "base_uri": "https://localhost:8080/"
        },
        "id": "3vc_4P-YLhgn",
        "outputId": "bdc89fee-4ac7-415e-e863-210a81caeeea"
      },
      "execution_count": 28,
      "outputs": [
        {
          "output_type": "execute_result",
          "data": {
            "text/plain": [
              "GridSearchCV(cv=5,\n",
              "             estimator=Pipeline(steps=[('scaler', StandardScaler()),\n",
              "                                       ('pca', PCA(n_components=0.95)),\n",
              "                                       ('oversampling', SMOTE()),\n",
              "                                       ('KNN', KNeighborsClassifier())]),\n",
              "             param_grid={'KNN__metric': ['euclidean', 'manhattan', 'l1', 'l2',\n",
              "                                         'minkowski'],\n",
              "                         'KNN__n_neighbors': [2, 3, 4, 5, 6, 7, 8, 9, 10, 11,\n",
              "                                              12, 13, 14, 15, 16, 17, 18, 19,\n",
              "                                              20, 21, 22, 23, 24, 25, 26, 27,\n",
              "                                              28, 29, 30],\n",
              "                         'KNN__p': [1, 2],\n",
              "                         'KNN__weights': ['uniform', 'distance']},\n",
              "             scoring='balanced_accuracy')"
            ]
          },
          "metadata": {},
          "execution_count": 28
        }
      ]
    },
    {
      "cell_type": "code",
      "source": [
        "print(grid_knn.best_params_)"
      ],
      "metadata": {
        "colab": {
          "base_uri": "https://localhost:8080/"
        },
        "id": "v_9uuOjzMvDQ",
        "outputId": "015155ff-e125-4144-bffb-496f7047a668"
      },
      "execution_count": 29,
      "outputs": [
        {
          "output_type": "stream",
          "name": "stdout",
          "text": [
            "{'KNN__metric': 'l1', 'KNN__n_neighbors': 29, 'KNN__p': 1, 'KNN__weights': 'uniform'}\n"
          ]
        }
      ]
    },
    {
      "cell_type": "code",
      "source": [
        "prediction_knn=grid_knn.predict(x_test_over)\n",
        "grid_knn_matrix = confusion_matrix(y_test_over, prediction_knn)\n",
        "\n",
        "plt.figure(figsize=(10,7))\n",
        "p = sns.heatmap(grid_knn_matrix, annot=True, cmap=\"Reds\", fmt='g')\n",
        "plt.title('Matricea de confuzie pentru K-Nearest Neighbors ')\n",
        "plt.xlabel('Valori prezise')\n",
        "plt.ylabel('Valori reale')\n",
        "plt.show()"
      ],
      "metadata": {
        "colab": {
          "base_uri": "https://localhost:8080/",
          "height": 458
        },
        "id": "IHSXqgNRMvGc",
        "outputId": "9c553b11-6f22-435f-c270-8835d9d5ffc8"
      },
      "execution_count": 30,
      "outputs": [
        {
          "output_type": "display_data",
          "data": {
            "text/plain": [
              "<Figure size 720x504 with 2 Axes>"
            ],
            "image/png": "[encoded data removed]"
          },
          "metadata": {
            "needs_background": "light"
          }
        }
      ]
    },
    {
      "cell_type": "code",
      "source": [
        "acc_score_knn=round(accuracy_score(y_test_over, prediction_knn),2)\n",
        "jaccard_score_knn=round(jaccard_score(y_test_over , prediction_knn),2)\n",
        "f1_score_knn=round(f1_score(y_test_over, prediction_knn),2)\n",
        "precision_score_knn=round(precision_score(y_test_over , prediction_knn),2)\n",
        "recall_score_knn=round(recall_score(y_test_over , prediction_knn),2)"
      ],
      "metadata": {
        "id": "nbm5ON28MvJ2"
      },
      "execution_count": 31,
      "outputs": []
    },
    {
      "cell_type": "code",
      "source": [
        "def show_scores(scores, names):\n",
        "    sns.heatmap(scores.T,annot=True, fmt='g', xticklabels=names, yticklabels=['Accuracy', 'Precision', 'Recall', 'F1', 'Jaccard'])\n",
        "    plt.title('Scores')\n",
        "    plt.show()\n",
        "\n",
        "scores = np.array([[acc_score_knn, precision_score_knn, recall_score_knn, f1_score_knn, jaccard_score_knn]]) #,[rand_forest_clf_precision, rand_forest_clf_recall,rand_forest_clf_f1],\n",
        "   # [sgd_clf_precision, sgd_clf_recall,sgd_clf_f1],[svc_clf_precision, svc_clf_recall,svc_clf_f1],[knn_clf_precision, knn_clf_recall, knn_clf_f1]])\n",
        "\n",
        "show_scores(scores,['K-Nearest Neighbors']) "
      ],
      "metadata": {
        "colab": {
          "base_uri": "https://localhost:8080/",
          "height": 281
        },
        "id": "SPI9TS91MvPs",
        "outputId": "ec9e1f7a-9b96-48eb-9a12-85544a644f4a"
      },
      "execution_count": 32,
      "outputs": [
        {
          "output_type": "display_data",
          "data": {
            "text/plain": [
              "<Figure size 432x288 with 2 Axes>"
            ],
            "image/png": "[encoded data removed]"
          },
          "metadata": {
            "needs_background": "light"
          }
        }
      ]
    },
    {
      "cell_type": "code",
      "source": [
        "raport_knn = classification_report(y_test_over, prediction_knn)\n",
        "print(raport_knn)"
      ],
      "metadata": {
        "colab": {
          "base_uri": "https://localhost:8080/"
        },
        "id": "sElDPYqqNkMO",
        "outputId": "5c3248ff-92a4-4d48-c18a-519537dc96ec"
      },
      "execution_count": 33,
      "outputs": [
        {
          "output_type": "stream",
          "name": "stdout",
          "text": [
            "              precision    recall  f1-score   support\n",
            "\n",
            "           0       0.95      0.73      0.83       683\n",
            "           1       0.35      0.80      0.49       122\n",
            "\n",
            "    accuracy                           0.74       805\n",
            "   macro avg       0.65      0.77      0.66       805\n",
            "weighted avg       0.86      0.74      0.78       805\n",
            "\n"
          ]
        }
      ]
    },
    {
      "cell_type": "code",
      "source": [
        "prediction_prob_knn = grid_knn.predict_proba(x_test_over)[:,1]\n",
        "false_positive_knn, true_positive_knn, threshold1 = roc_curve(y_test_over, prediction_prob_knn)\n",
        "auc_knn = roc_auc_score(y_test_over, prediction_prob_knn)\n",
        "plt.plot(false_positive_knn, true_positive_knn,label=\"AUC=\"+str(auc_knn))\n",
        "plt.ylabel('True Positive Rate (Sensitivity)')\n",
        "plt.xlabel('False Positive Rate (Specificity)')\n",
        "plt.title(\"ROC for KNN \")\n",
        "plt.legend(loc=5)\n",
        "plt.show()"
      ],
      "metadata": {
        "id": "OyLPa5xpNkOz",
        "colab": {
          "base_uri": "https://localhost:8080/",
          "height": 295
        },
        "outputId": "7aac2e2b-310e-4520-93e2-a1bd7b06c991"
      },
      "execution_count": 70,
      "outputs": [
        {
          "output_type": "display_data",
          "data": {
            "text/plain": [
              "<Figure size 432x288 with 1 Axes>"
            ],
            "image/png": "[encoded data removed]"
          },
          "metadata": {
            "needs_background": "light"
          }
        }
      ]
    },
    {
      "cell_type": "code",
      "source": [],
      "metadata": {
        "id": "ys8VQd3BdJhz"
      },
      "execution_count": null,
      "outputs": []
    },
    {
      "cell_type": "code",
      "source": [],
      "metadata": {
        "id": "aaYWH1qqdJkh"
      },
      "execution_count": null,
      "outputs": []
    },
    {
      "cell_type": "code",
      "source": [],
      "metadata": {
        "id": "5xTgVfqIdJm1"
      },
      "execution_count": null,
      "outputs": []
    },
    {
      "cell_type": "code",
      "source": [],
      "metadata": {
        "id": "pqZKoirbNkTx"
      },
      "execution_count": null,
      "outputs": []
    },
    {
      "cell_type": "code",
      "source": [
        "\n",
        "warnings.filterwarnings(\"ignore\")\n",
        "\n",
        "SVM=SVC(probability=True)\n",
        "\n",
        "\n",
        "pipe_svm= Pipeline ([\n",
        "    ('scaler', StandardScaler()),\n",
        "    ('pca', PCA(n_components=0.95)),\n",
        "    ('oversampling', SMOTE()),\n",
        "    ('SVM', SVM)\n",
        "])\n",
        "\n",
        "C_list_svm=[ 0.5,  1, 10, 100 ]\n",
        "max_iter_list_svm=[100, 1000, 3000]\n",
        "random_state_list_svm=[ 20, 42 ]\n",
        "kernel_svm=['linear', 'poly', 'rbf', 'sigmoid']\n",
        "probability_svm=[True]\n",
        "param_grid_svm = {\n",
        "    'SVM__C': C_list_svm, \n",
        "    'SVM__kernel': kernel_svm,\n",
        "    'SVM__max_iter': max_iter_list_svm,\n",
        "    'SVM__random_state': random_state_list_svm,\n",
        "    'SVM__probability': probability_svm\n",
        "}\n",
        "\n",
        "\n",
        "grid_svm = GridSearchCV(pipe_svm, param_grid_svm, cv=5, scoring='balanced_accuracy', return_train_score=False)\n",
        "grid_svm.fit(x_train_over, y_train_over)"
      ],
      "metadata": {
        "colab": {
          "base_uri": "https://localhost:8080/"
        },
        "id": "Cc21r20sNkWX",
        "outputId": "099ca1b6-82a0-4b26-9743-d2a7167b4aa8"
      },
      "execution_count": 58,
      "outputs": [
        {
          "output_type": "execute_result",
          "data": {
            "text/plain": [
              "GridSearchCV(cv=5,\n",
              "             estimator=Pipeline(steps=[('scaler', StandardScaler()),\n",
              "                                       ('pca', PCA(n_components=0.95)),\n",
              "                                       ('oversampling', SMOTE()),\n",
              "                                       ('SVM', SVC(probability=True))]),\n",
              "             param_grid={'SVM__C': [0.5, 1, 10, 100],\n",
              "                         'SVM__kernel': ['linear', 'poly', 'rbf', 'sigmoid'],\n",
              "                         'SVM__max_iter': [100, 1000, 3000],\n",
              "                         'SVM__probability': [True],\n",
              "                         'SVM__random_state': [20, 42]},\n",
              "             scoring='balanced_accuracy')"
            ]
          },
          "metadata": {},
          "execution_count": 58
        }
      ]
    },
    {
      "cell_type": "code",
      "source": [
        "print(grid_svm.best_params_)"
      ],
      "metadata": {
        "colab": {
          "base_uri": "https://localhost:8080/"
        },
        "id": "YRKzSnlMNkY4",
        "outputId": "b9ae2685-8af5-4eff-c34e-e4af4b4c4d69"
      },
      "execution_count": 59,
      "outputs": [
        {
          "output_type": "stream",
          "name": "stdout",
          "text": [
            "{'SVM__C': 0.5, 'SVM__kernel': 'linear', 'SVM__max_iter': 3000, 'SVM__probability': True, 'SVM__random_state': 20}\n"
          ]
        }
      ]
    },
    {
      "cell_type": "code",
      "source": [
        "prediction_svm=grid_svm.predict(x_test_over)\n",
        "grid_svm_matrix = confusion_matrix(y_test_over, prediction_svm)\n",
        "\n",
        "plt.figure(figsize=(10,7))\n",
        "p = sns.heatmap(grid_svm_matrix, annot=True, cmap=\"Reds\", fmt='g')\n",
        "plt.title('Matricea de confuzie pentru Support Vector Machines ')\n",
        "plt.xlabel('Valori prezise')\n",
        "plt.ylabel('Valori reale')\n",
        "plt.show()"
      ],
      "metadata": {
        "colab": {
          "base_uri": "https://localhost:8080/",
          "height": 458
        },
        "id": "IxkjdmvfNkbf",
        "outputId": "27aef81f-f217-4919-be4e-206ab48d744f"
      },
      "execution_count": 60,
      "outputs": [
        {
          "output_type": "display_data",
          "data": {
            "text/plain": [
              "<Figure size 720x504 with 2 Axes>"
            ],
            "image/png": "[encoded data removed]"
          },
          "metadata": {
            "needs_background": "light"
          }
        }
      ]
    },
    {
      "cell_type": "code",
      "source": [
        "acc_score_svm=round(accuracy_score(y_test_over, prediction_svm),2)\n",
        "jaccard_score_svm=round(jaccard_score(y_test_over , prediction_svm),2)\n",
        "f1_score_svm=round(f1_score(y_test_over, prediction_svm),2)\n",
        "precision_score_svm=round(precision_score(y_test_over , prediction_svm),2)\n",
        "recall_score_svm=round(recall_score(y_test_over , prediction_svm),2)"
      ],
      "metadata": {
        "id": "hB947UqYT9C5"
      },
      "execution_count": 61,
      "outputs": []
    },
    {
      "cell_type": "code",
      "source": [
        "def show_scores(scores, names):\n",
        "    sns.heatmap(scores.T,annot=True, fmt='g', xticklabels=names, yticklabels=['Accuracy', 'Precision', 'Recall', 'F1', 'Jaccard'])\n",
        "    plt.title('Scores')\n",
        "    plt.show()\n",
        "\n",
        "scores = np.array([[acc_score_svm, precision_score_svm, recall_score_svm, f1_score_svm, jaccard_score_svm]]) #,[rand_forest_clf_precision, rand_forest_clf_recall,rand_forest_clf_f1],\n",
        "   # [sgd_clf_precision, sgd_clf_recall,sgd_clf_f1],[svc_clf_precision, svc_clf_recall,svc_clf_f1],[knn_clf_precision, knn_clf_recall, knn_clf_f1]])\n",
        "\n",
        "show_scores(scores,['Support Vector Machines']) "
      ],
      "metadata": {
        "colab": {
          "base_uri": "https://localhost:8080/",
          "height": 281
        },
        "id": "98-LhPfLT9Fh",
        "outputId": "f0e079af-ba86-4945-96e7-bb82ebb2bbd2"
      },
      "execution_count": 62,
      "outputs": [
        {
          "output_type": "display_data",
          "data": {
            "text/plain": [
              "<Figure size 432x288 with 2 Axes>"
            ],
            "image/png": "[encoded data removed]"
          },
          "metadata": {
            "needs_background": "light"
          }
        }
      ]
    },
    {
      "cell_type": "code",
      "source": [
        "raport_svm = classification_report(y_test_over, prediction_svm)\n",
        "print(raport_svm)"
      ],
      "metadata": {
        "colab": {
          "base_uri": "https://localhost:8080/"
        },
        "id": "ax_pl6sfT9IZ",
        "outputId": "5b5256ff-af31-489b-d907-7a0c0eee01e5"
      },
      "execution_count": 63,
      "outputs": [
        {
          "output_type": "stream",
          "name": "stdout",
          "text": [
            "              precision    recall  f1-score   support\n",
            "\n",
            "           0       0.96      0.75      0.84       683\n",
            "           1       0.37      0.84      0.52       122\n",
            "\n",
            "    accuracy                           0.76       805\n",
            "   macro avg       0.67      0.79      0.68       805\n",
            "weighted avg       0.87      0.76      0.79       805\n",
            "\n"
          ]
        }
      ]
    },
    {
      "cell_type": "code",
      "source": [
        "prediction_prob_svm = grid_svm.predict_proba(x_test_over)[:,1]\n",
        "false_positive_svm, true_positive_svm, threshold1 = roc_curve(y_test_over, prediction_prob_svm)\n",
        "auc_svm = roc_auc_score(y_test_over, prediction_prob_svm)\n",
        "plt.plot(false_positive_svm, true_positive_svm,label=\"AUC=\"+str(auc_svm))\n",
        "plt.ylabel('True Positive Rate (Sensitivity)')\n",
        "plt.xlabel('False Positive Rate (Specificity)')\n",
        "plt.title(\"ROC for SVM \")\n",
        "plt.legend(loc=5)\n",
        "plt.show()"
      ],
      "metadata": {
        "id": "sEHTqYjlya2N",
        "colab": {
          "base_uri": "https://localhost:8080/",
          "height": 295
        },
        "outputId": "f73f7443-a846-4eda-f32f-d15d056a1a27"
      },
      "execution_count": 69,
      "outputs": [
        {
          "output_type": "display_data",
          "data": {
            "text/plain": [
              "<Figure size 432x288 with 1 Axes>"
            ],
            "image/png": "[encoded data removed]"
          },
          "metadata": {
            "needs_background": "light"
          }
        }
      ]
    },
    {
      "cell_type": "code",
      "source": [],
      "metadata": {
        "id": "zX9ozrsWc5fs"
      },
      "execution_count": null,
      "outputs": []
    },
    {
      "cell_type": "code",
      "source": [],
      "metadata": {
        "id": "PNgbPBx4c5io"
      },
      "execution_count": null,
      "outputs": []
    },
    {
      "cell_type": "code",
      "source": [],
      "metadata": {
        "id": "88VFiR6LybJV"
      },
      "execution_count": null,
      "outputs": []
    },
    {
      "cell_type": "code",
      "source": [
        "from sklearn.decomposition import PCA\n",
        "import warnings\n",
        "warnings.filterwarnings(\"ignore\")\n",
        "\n",
        "RF=RandomForestClassifier()\n",
        "\n",
        "\n",
        "pipe_rf= Pipeline ([\n",
        "    ('scaler', StandardScaler()),\n",
        "    ('pca', PCA(n_components=0.95)),\n",
        "    ('oversampling', SMOTE()),\n",
        "    ('RF', RF)\n",
        "])\n",
        "\n",
        "n_estimtors_rf=[100, 500, 1000, 2000 ]\n",
        "criterion_rf=['gini', 'entropy', 'log_loss']\n",
        "random_state_list_rf=[ None, 20, 42 ]\n",
        "param_grid_rf = {\n",
        "    'RF__n_estimators': n_estimtors_rf, \n",
        "    'RF__criterion': criterion_rf,\n",
        "    'RF__random_state': random_state_list_rf\n",
        "}\n",
        "\n",
        "\n",
        "grid_rf = GridSearchCV(pipe_rf, param_grid_rf, cv=5, scoring='balanced_accuracy', return_train_score=False)\n",
        "grid_rf.fit(x_train_over, y_train_over)"
      ],
      "metadata": {
        "id": "p6VvtMF6ybS_",
        "colab": {
          "base_uri": "https://localhost:8080/"
        },
        "outputId": "a30998e5-ee04-4419-e530-8e24a8ae407e"
      },
      "execution_count": 89,
      "outputs": [
        {
          "output_type": "execute_result",
          "data": {
            "text/plain": [
              "GridSearchCV(cv=5,\n",
              "             estimator=Pipeline(steps=[('scaler', StandardScaler()),\n",
              "                                       ('pca', PCA(n_components=0.95)),\n",
              "                                       ('oversampling', SMOTE()),\n",
              "                                       ('RF', RandomForestClassifier())]),\n",
              "             param_grid={'RF__criterion': ['gini', 'entropy', 'log_loss'],\n",
              "                         'RF__n_estimators': [100, 500, 1000, 2000],\n",
              "                         'RF__random_state': [None, 20, 42]},\n",
              "             scoring='balanced_accuracy')"
            ]
          },
          "metadata": {},
          "execution_count": 89
        }
      ]
    },
    {
      "cell_type": "code",
      "source": [
        "print(grid_rf.best_params_)"
      ],
      "metadata": {
        "id": "6sCPtl7yybUv",
        "colab": {
          "base_uri": "https://localhost:8080/"
        },
        "outputId": "7d80e0e5-30fb-4e4f-f35a-d760fd732e39"
      },
      "execution_count": 90,
      "outputs": [
        {
          "output_type": "stream",
          "name": "stdout",
          "text": [
            "{'RF__criterion': 'entropy', 'RF__n_estimators': 500, 'RF__random_state': None}\n"
          ]
        }
      ]
    },
    {
      "cell_type": "code",
      "source": [
        "prediction_rf=grid_rf.predict(x_test_over)\n",
        "grid_rf_matrix = confusion_matrix(y_test_over, prediction_rf)\n",
        "\n",
        "plt.figure(figsize=(10,7))\n",
        "p = sns.heatmap(grid_rf_matrix, annot=True, cmap=\"Reds\", fmt='g')\n",
        "plt.title('Matricea de confuzie pentru Random Forest')\n",
        "plt.xlabel('Valori prezise')\n",
        "plt.ylabel('Valori reale')\n",
        "plt.show()"
      ],
      "metadata": {
        "id": "G_rMJQM0ybWG",
        "colab": {
          "base_uri": "https://localhost:8080/",
          "height": 458
        },
        "outputId": "d0001777-994a-4d83-ab8a-c021b5dad3f8"
      },
      "execution_count": 91,
      "outputs": [
        {
          "output_type": "display_data",
          "data": {
            "text/plain": [
              "<Figure size 720x504 with 2 Axes>"
            ],
            "image/png": "[encoded data removed]"
          },
          "metadata": {
            "needs_background": "light"
          }
        }
      ]
    },
    {
      "cell_type": "code",
      "source": [
        "acc_score_rf=round(accuracy_score(y_test_over, prediction_rf),2)\n",
        "jaccard_score_rf=round(jaccard_score(y_test_over , prediction_rf),2)\n",
        "f1_score_rf=round(f1_score(y_test_over, prediction_rf),2)\n",
        "precision_score_rf=round(precision_score(y_test_over , prediction_rf),2)\n",
        "recall_score_rf=round(recall_score(y_test_over , prediction_rf),2)"
      ],
      "metadata": {
        "id": "94fGYPbKybXe"
      },
      "execution_count": 92,
      "outputs": []
    },
    {
      "cell_type": "code",
      "source": [
        "def show_scores(scores, names):\n",
        "    sns.heatmap(scores.T,annot=True, fmt='g', xticklabels=names, yticklabels=['Accuracy', 'Precision', 'Recall', 'F1', 'Jaccard'])\n",
        "    plt.title('Scores')\n",
        "    plt.show()\n",
        "\n",
        "scores = np.array([[acc_score_rf, precision_score_rf, recall_score_rf, f1_score_rf, jaccard_score_rf]]) #,[rand_forest_clf_precision, rand_forest_clf_recall,rand_forest_clf_f1],\n",
        "   # [sgd_clf_precision, sgd_clf_recall,sgd_clf_f1],[svc_clf_precision, svc_clf_recall,svc_clf_f1],[knn_clf_precision, knn_clf_recall, knn_clf_f1]])\n",
        "\n",
        "show_scores(scores,['Random Forest']) "
      ],
      "metadata": {
        "id": "gl3OihpyybYt",
        "colab": {
          "base_uri": "https://localhost:8080/",
          "height": 281
        },
        "outputId": "6c99eae4-f842-4a42-c6f5-acfd99889584"
      },
      "execution_count": 93,
      "outputs": [
        {
          "output_type": "display_data",
          "data": {
            "text/plain": [
              "<Figure size 432x288 with 2 Axes>"
            ],
            "image/png": "[encoded data removed]"
          },
          "metadata": {
            "needs_background": "light"
          }
        }
      ]
    },
    {
      "cell_type": "code",
      "source": [
        "raport_rf = classification_report(y_test_over, prediction_rf)\n",
        "print(raport_rf)"
      ],
      "metadata": {
        "id": "OWZSgZkh6TN0",
        "outputId": "07b54ca0-5e1d-4695-c8bd-15a3e99aff24",
        "colab": {
          "base_uri": "https://localhost:8080/"
        }
      },
      "execution_count": 95,
      "outputs": [
        {
          "output_type": "stream",
          "name": "stdout",
          "text": [
            "              precision    recall  f1-score   support\n",
            "\n",
            "           0       0.94      0.89      0.92       683\n",
            "           1       0.53      0.70      0.60       122\n",
            "\n",
            "    accuracy                           0.86       805\n",
            "   macro avg       0.74      0.79      0.76       805\n",
            "weighted avg       0.88      0.86      0.87       805\n",
            "\n"
          ]
        }
      ]
    },
    {
      "cell_type": "code",
      "source": [
        "prediction_prob_rf = grid_rf.predict_proba(x_test_over)[:,1]\n",
        "false_positive_rf, true_positive_rf, threshold1 = roc_curve(y_test_over, prediction_prob_rf)\n",
        "auc_rf = roc_auc_score(y_test_over, prediction_prob_rf)\n",
        "plt.plot(false_positive_rf, true_positive_rf,label=\"AUC=\"+str(auc_rf))\n",
        "plt.ylabel('True Positive Rate (Sensitivity)')\n",
        "plt.xlabel('False Positive Rate (Specificity)')\n",
        "plt.title('ROC for RF')\n",
        "plt.legend(loc=5)\n",
        "plt.show()"
      ],
      "metadata": {
        "colab": {
          "base_uri": "https://localhost:8080/",
          "height": 295
        },
        "id": "OFk5qJuCY_eh",
        "outputId": "8c1971e4-7bb0-4721-a925-e0ab1ec6d989"
      },
      "execution_count": 96,
      "outputs": [
        {
          "output_type": "display_data",
          "data": {
            "text/plain": [
              "<Figure size 432x288 with 1 Axes>"
            ],
            "image/png": "[encoded data removed]"
          },
          "metadata": {
            "needs_background": "light"
          }
        }
      ]
    },
    {
      "cell_type": "code",
      "source": [],
      "metadata": {
        "id": "4V74QCO3eMHa"
      },
      "execution_count": null,
      "outputs": []
    },
    {
      "cell_type": "code",
      "source": [],
      "metadata": {
        "id": "00RgHgNTeMJ3"
      },
      "execution_count": null,
      "outputs": []
    },
    {
      "cell_type": "code",
      "source": [],
      "metadata": {
        "id": "gPGOuviseMOn"
      },
      "execution_count": null,
      "outputs": []
    }
  ]
}