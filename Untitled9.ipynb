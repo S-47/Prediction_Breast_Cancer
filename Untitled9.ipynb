{
  "nbformat": 4,
  "nbformat_minor": 0,
  "metadata": {
    "colab": {
      "provenance": [],
      "mount_file_id": "1tKeHCX3w1hGsTKlgzejbGaOBeTqdNEq7",
      "authorship_tag": "ABX9TyMUVOA7qKN66hjno5Clvv2A",
      "include_colab_link": true
    },
    "kernelspec": {
      "name": "python3",
      "display_name": "Python 3"
    },
    "language_info": {
      "name": "python"
    }
  },
  "cells": [
    {
      "cell_type": "markdown",
      "metadata": {
        "id": "view-in-github",
        "colab_type": "text"
      },
      "source": [
        "<a href=\"https://colab.research.google.com/github/S-47/Prediction_Breast_Cancer/blob/main/Untitled9.ipynb\" target=\"_parent\"><img src=\"https://colab.research.google.com/assets/colab-badge.svg\" alt=\"Open In Colab\"/></a>"
      ]
    },
    {
      "cell_type": "code",
      "execution_count": 23,
      "metadata": {
        "id": "KvIRxufYVTwG"
      },
      "outputs": [],
      "source": [
        "import numpy as np\n",
        "import pandas as pd\n",
        "import matplotlib.pyplot as plt\n",
        "from sklearn.model_selection import StratifiedKFold, cross_val_score\n",
        "from sklearn.preprocessing import  LabelEncoder, StandardScaler\n",
        "from sklearn.model_selection import train_test_split\n",
        "from sklearn import svm\n",
        "from sklearn.linear_model import LogisticRegression\n",
        "from sklearn.neighbors import KNeighborsClassifier\n",
        "from sklearn.ensemble import RandomForestClassifier\n",
        "from sklearn.svm import SVC, LinearSVC\n",
        "from sklearn.metrics import accuracy_score, classification_report, jaccard_score, f1_score, confusion_matrix\n",
        "from imblearn.over_sampling import RandomOverSampler\n",
        "from statistics import mean\n",
        "import seaborn as sns\n",
        "import pickle\n",
        "import joblib"
      ]
    },
    {
      "cell_type": "code",
      "source": [
        "df=pd.read_csv('/content/drive/MyDrive/Cancer_Dataset.csv')"
      ],
      "metadata": {
        "id": "mf5SRMOiVnL9"
      },
      "execution_count": 24,
      "outputs": []
    },
    {
      "cell_type": "code",
      "source": [
        "df.drop_duplicates(inplace=True)"
      ],
      "metadata": {
        "id": "5P8cj3L7VnOu"
      },
      "execution_count": 3,
      "outputs": []
    },
    {
      "cell_type": "code",
      "source": [
        "status_dict = {\n",
        "    \"Dead\":0, \n",
        "    \"Alive\":1\n",
        "}\n",
        "df[\"Status\"] = pd.to_numeric(df[\"Status\"].replace(status_dict))"
      ],
      "metadata": {
        "id": "tFXE0TiYVnSs"
      },
      "execution_count": 4,
      "outputs": []
    },
    {
      "cell_type": "code",
      "source": [
        "race_dict = {\n",
        "    \"White\":0, \n",
        "    \"Black\":1,\n",
        "    \"Other\":2\n",
        "}\n",
        "df[\"Race\"] = pd.to_numeric(df[\"Race\"].replace(race_dict))\n",
        "\n",
        "\n",
        "\n",
        "marital_dict = {\n",
        "    \"Married\":0, \n",
        "    \"Divorced\":1,\n",
        "    \"Single \":2,\n",
        "    \"Widowed\":3,\n",
        "    \"Separated\":4\n",
        "}\n",
        "df[\"Marital_Status\"] = pd.to_numeric(df[\"Marital_Status\"].replace(marital_dict))\n",
        "\n",
        "\n",
        "\n",
        "\n",
        "T_dict = {\n",
        "    \"T1\":1, \n",
        "    \"T2\":2,\n",
        "    \"T3\":3,\n",
        "    \"T4\":4\n",
        "}\n",
        "df[\"T_Stage\"] = pd.to_numeric(df[\"T_Stage\"].replace(T_dict))\n",
        "\n",
        "\n",
        "\n",
        "N_dict = {\n",
        "    \"N1\":1, \n",
        "    \"N2\":2,\n",
        "    \"N3\":3\n",
        "}\n",
        "df[\"N_Stage\"] = pd.to_numeric(df[\"N_Stage\"].replace(N_dict))\n",
        "\n",
        "\n",
        "\n",
        "A_dict = {\n",
        "    \"Regional\":0, \n",
        "    \"Distant\":1\n",
        "}\n",
        "df[\"A_Stage\"] = pd.to_numeric(df[\"A_Stage\"].replace(A_dict))\n",
        "\n",
        "\n",
        "\n",
        "stage6_dict = {\n",
        "    \"IIA\":0, \n",
        "    \"IIB\":1,\n",
        "    \"IIIA\":2,\n",
        "    \"IIIB\":3,\n",
        "    \"IIIC\":4,\n",
        "}\n",
        "df[\"Stage_6\"] = pd.to_numeric(df[\"Stage_6\"].replace(stage6_dict))\n",
        "\n",
        "\n",
        "\n",
        "prog_dict = {\n",
        "    \"Negative\":0,\n",
        "    \"Positive\":1\n",
        "}\n",
        "df[\"Progesterone_Status\"] = pd.to_numeric(df[\"Progesterone_Status\"].replace(prog_dict))\n",
        "\n",
        "\n",
        "\n",
        "\n",
        "estrogen_dict = {\n",
        "    \"Negative\":0,\n",
        "    \"Positive\":1\n",
        "}\n",
        "df[\"Estrogen_Status\"] = pd.to_numeric(df[\"Estrogen_Status\"].replace(estrogen_dict))\n",
        "\n",
        "\n",
        "\n",
        "\n",
        "\n",
        "differentiate_dict = {\n",
        "    \"Poorly differentiated\":0, \n",
        "    \"Moderately differentiated\":1,\n",
        "    \"Well differentiated\":2,\n",
        "    \"Undifferentiated\":3\n",
        "}\n",
        "df[\"differentiate\"] = pd.to_numeric(df[\"differentiate\"].replace(differentiate_dict))\n",
        "\n",
        "\n"
      ],
      "metadata": {
        "id": "stIeSdVCWP2t"
      },
      "execution_count": 5,
      "outputs": []
    },
    {
      "cell_type": "code",
      "source": [
        "df.head()"
      ],
      "metadata": {
        "colab": {
          "base_uri": "https://localhost:8080/",
          "height": 270
        },
        "id": "9_WKYbCmWP9C",
        "outputId": "e9a96963-6d71-4fc9-da7c-91e53479e211"
      },
      "execution_count": 6,
      "outputs": [
        {
          "output_type": "execute_result",
          "data": {
            "text/plain": [
              "   Age  Race  Marital_Status  T_Stage  N_Stage  Stage_6  differentiate  Grade  \\\n",
              "0   68     0               0        1        1        0              0      3   \n",
              "1   50     0               0        2        2        2              1      2   \n",
              "2   58     0               1        3        3        4              1      2   \n",
              "3   58     0               0        1        1        0              0      3   \n",
              "4   47     0               0        2        1        1              0      3   \n",
              "\n",
              "   A_Stage  Tumor_Size  Estrogen_Status  Progesterone_Status  \\\n",
              "0        0           4                1                    1   \n",
              "1        0          35                1                    1   \n",
              "2        0          63                1                    1   \n",
              "3        0          18                1                    1   \n",
              "4        0          41                1                    1   \n",
              "\n",
              "   Regional_Node_Examined  Regional_Node_Positive  Survival_Months  Status  \n",
              "0                      24                       1               60       1  \n",
              "1                      14                       5               62       1  \n",
              "2                      14                       7               75       1  \n",
              "3                       2                       1               84       1  \n",
              "4                       3                       1               50       1  "
            ],
            "text/html": [
              "\n",
              "  <div id=\"df-2340ac62-0539-408e-9e05-67b311b9dddb\">\n",
              "    <div class=\"colab-df-container\">\n",
              "      <div>\n",
              "<style scoped>\n",
              "    .dataframe tbody tr th:only-of-type {\n",
              "        vertical-align: middle;\n",
              "    }\n",
              "\n",
              "    .dataframe tbody tr th {\n",
              "        vertical-align: top;\n",
              "    }\n",
              "\n",
              "    .dataframe thead th {\n",
              "        text-align: right;\n",
              "    }\n",
              "</style>\n",
              "<table border=\"1\" class=\"dataframe\">\n",
              "  <thead>\n",
              "    <tr style=\"text-align: right;\">\n",
              "      <th></th>\n",
              "      <th>Age</th>\n",
              "      <th>Race</th>\n",
              "      <th>Marital_Status</th>\n",
              "      <th>T_Stage</th>\n",
              "      <th>N_Stage</th>\n",
              "      <th>Stage_6</th>\n",
              "      <th>differentiate</th>\n",
              "      <th>Grade</th>\n",
              "      <th>A_Stage</th>\n",
              "      <th>Tumor_Size</th>\n",
              "      <th>Estrogen_Status</th>\n",
              "      <th>Progesterone_Status</th>\n",
              "      <th>Regional_Node_Examined</th>\n",
              "      <th>Regional_Node_Positive</th>\n",
              "      <th>Survival_Months</th>\n",
              "      <th>Status</th>\n",
              "    </tr>\n",
              "  </thead>\n",
              "  <tbody>\n",
              "    <tr>\n",
              "      <th>0</th>\n",
              "      <td>68</td>\n",
              "      <td>0</td>\n",
              "      <td>0</td>\n",
              "      <td>1</td>\n",
              "      <td>1</td>\n",
              "      <td>0</td>\n",
              "      <td>0</td>\n",
              "      <td>3</td>\n",
              "      <td>0</td>\n",
              "      <td>4</td>\n",
              "      <td>1</td>\n",
              "      <td>1</td>\n",
              "      <td>24</td>\n",
              "      <td>1</td>\n",
              "      <td>60</td>\n",
              "      <td>1</td>\n",
              "    </tr>\n",
              "    <tr>\n",
              "      <th>1</th>\n",
              "      <td>50</td>\n",
              "      <td>0</td>\n",
              "      <td>0</td>\n",
              "      <td>2</td>\n",
              "      <td>2</td>\n",
              "      <td>2</td>\n",
              "      <td>1</td>\n",
              "      <td>2</td>\n",
              "      <td>0</td>\n",
              "      <td>35</td>\n",
              "      <td>1</td>\n",
              "      <td>1</td>\n",
              "      <td>14</td>\n",
              "      <td>5</td>\n",
              "      <td>62</td>\n",
              "      <td>1</td>\n",
              "    </tr>\n",
              "    <tr>\n",
              "      <th>2</th>\n",
              "      <td>58</td>\n",
              "      <td>0</td>\n",
              "      <td>1</td>\n",
              "      <td>3</td>\n",
              "      <td>3</td>\n",
              "      <td>4</td>\n",
              "      <td>1</td>\n",
              "      <td>2</td>\n",
              "      <td>0</td>\n",
              "      <td>63</td>\n",
              "      <td>1</td>\n",
              "      <td>1</td>\n",
              "      <td>14</td>\n",
              "      <td>7</td>\n",
              "      <td>75</td>\n",
              "      <td>1</td>\n",
              "    </tr>\n",
              "    <tr>\n",
              "      <th>3</th>\n",
              "      <td>58</td>\n",
              "      <td>0</td>\n",
              "      <td>0</td>\n",
              "      <td>1</td>\n",
              "      <td>1</td>\n",
              "      <td>0</td>\n",
              "      <td>0</td>\n",
              "      <td>3</td>\n",
              "      <td>0</td>\n",
              "      <td>18</td>\n",
              "      <td>1</td>\n",
              "      <td>1</td>\n",
              "      <td>2</td>\n",
              "      <td>1</td>\n",
              "      <td>84</td>\n",
              "      <td>1</td>\n",
              "    </tr>\n",
              "    <tr>\n",
              "      <th>4</th>\n",
              "      <td>47</td>\n",
              "      <td>0</td>\n",
              "      <td>0</td>\n",
              "      <td>2</td>\n",
              "      <td>1</td>\n",
              "      <td>1</td>\n",
              "      <td>0</td>\n",
              "      <td>3</td>\n",
              "      <td>0</td>\n",
              "      <td>41</td>\n",
              "      <td>1</td>\n",
              "      <td>1</td>\n",
              "      <td>3</td>\n",
              "      <td>1</td>\n",
              "      <td>50</td>\n",
              "      <td>1</td>\n",
              "    </tr>\n",
              "  </tbody>\n",
              "</table>\n",
              "</div>\n",
              "      <button class=\"colab-df-convert\" onclick=\"convertToInteractive('df-2340ac62-0539-408e-9e05-67b311b9dddb')\"\n",
              "              title=\"Convert this dataframe to an interactive table.\"\n",
              "              style=\"display:none;\">\n",
              "        \n",
              "  <svg xmlns=\"http://www.w3.org/2000/svg\" height=\"24px\"viewBox=\"0 0 24 24\"\n",
              "       width=\"24px\">\n",
              "    <path d=\"M0 0h24v24H0V0z\" fill=\"none\"/>\n",
              "    <path d=\"M18.56 5.44l.94 2.06.94-2.06 2.06-.94-2.06-.94-.94-2.06-.94 2.06-2.06.94zm-11 1L8.5 8.5l.94-2.06 2.06-.94-2.06-.94L8.5 2.5l-.94 2.06-2.06.94zm10 10l.94 2.06.94-2.06 2.06-.94-2.06-.94-.94-2.06-.94 2.06-2.06.94z\"/><path d=\"M17.41 7.96l-1.37-1.37c-.4-.4-.92-.59-1.43-.59-.52 0-1.04.2-1.43.59L10.3 9.45l-7.72 7.72c-.78.78-.78 2.05 0 2.83L4 21.41c.39.39.9.59 1.41.59.51 0 1.02-.2 1.41-.59l7.78-7.78 2.81-2.81c.8-.78.8-2.07 0-2.86zM5.41 20L4 18.59l7.72-7.72 1.47 1.35L5.41 20z\"/>\n",
              "  </svg>\n",
              "      </button>\n",
              "      \n",
              "  <style>\n",
              "    .colab-df-container {\n",
              "      display:flex;\n",
              "      flex-wrap:wrap;\n",
              "      gap: 12px;\n",
              "    }\n",
              "\n",
              "    .colab-df-convert {\n",
              "      background-color: #E8F0FE;\n",
              "      border: none;\n",
              "      border-radius: 50%;\n",
              "      cursor: pointer;\n",
              "      display: none;\n",
              "      fill: #1967D2;\n",
              "      height: 32px;\n",
              "      padding: 0 0 0 0;\n",
              "      width: 32px;\n",
              "    }\n",
              "\n",
              "    .colab-df-convert:hover {\n",
              "      background-color: #E2EBFA;\n",
              "      box-shadow: 0px 1px 2px rgba(60, 64, 67, 0.3), 0px 1px 3px 1px rgba(60, 64, 67, 0.15);\n",
              "      fill: #174EA6;\n",
              "    }\n",
              "\n",
              "    [theme=dark] .colab-df-convert {\n",
              "      background-color: #3B4455;\n",
              "      fill: #D2E3FC;\n",
              "    }\n",
              "\n",
              "    [theme=dark] .colab-df-convert:hover {\n",
              "      background-color: #434B5C;\n",
              "      box-shadow: 0px 1px 3px 1px rgba(0, 0, 0, 0.15);\n",
              "      filter: drop-shadow(0px 1px 2px rgba(0, 0, 0, 0.3));\n",
              "      fill: #FFFFFF;\n",
              "    }\n",
              "  </style>\n",
              "\n",
              "      <script>\n",
              "        const buttonEl =\n",
              "          document.querySelector('#df-2340ac62-0539-408e-9e05-67b311b9dddb button.colab-df-convert');\n",
              "        buttonEl.style.display =\n",
              "          google.colab.kernel.accessAllowed ? 'block' : 'none';\n",
              "\n",
              "        async function convertToInteractive(key) {\n",
              "          const element = document.querySelector('#df-2340ac62-0539-408e-9e05-67b311b9dddb');\n",
              "          const dataTable =\n",
              "            await google.colab.kernel.invokeFunction('convertToInteractive',\n",
              "                                                     [key], {});\n",
              "          if (!dataTable) return;\n",
              "\n",
              "          const docLinkHtml = 'Like what you see? Visit the ' +\n",
              "            '<a target=\"_blank\" href=https://colab.research.google.com/notebooks/data_table.ipynb>data table notebook</a>'\n",
              "            + ' to learn more about interactive tables.';\n",
              "          element.innerHTML = '';\n",
              "          dataTable['output_type'] = 'display_data';\n",
              "          await google.colab.output.renderOutput(dataTable, element);\n",
              "          const docLink = document.createElement('div');\n",
              "          docLink.innerHTML = docLinkHtml;\n",
              "          element.appendChild(docLink);\n",
              "        }\n",
              "      </script>\n",
              "    </div>\n",
              "  </div>\n",
              "  "
            ]
          },
          "metadata": {},
          "execution_count": 6
        }
      ]
    },
    {
      "cell_type": "code",
      "source": [
        "x = df.drop(\"Status\", axis=1)\n",
        "y = df[\"Status\"]"
      ],
      "metadata": {
        "id": "vE1LH7wFWP_c"
      },
      "execution_count": 7,
      "outputs": []
    },
    {
      "cell_type": "code",
      "source": [
        "x_train, x_test, y_train, y_test= train_test_split(x, y, test_size=0.2, random_state=42)"
      ],
      "metadata": {
        "id": "kiplVTStWQB8"
      },
      "execution_count": 8,
      "outputs": []
    },
    {
      "cell_type": "code",
      "source": [
        "scaler=StandardScaler()\n",
        "\n",
        "x_train=scaler.fit_transform(x_train)\n",
        "x_test=scaler.transform(x_test)"
      ],
      "metadata": {
        "id": "hR5pGD4fZ7WK"
      },
      "execution_count": 9,
      "outputs": []
    },
    {
      "cell_type": "code",
      "source": [
        "model_accuracy={}\n",
        "model_recall={}\n",
        "model_precision={}\n",
        "model_jaccard={}\n",
        "model_f1={}"
      ],
      "metadata": {
        "id": "KsDTYx0aZ7YY"
      },
      "execution_count": 10,
      "outputs": []
    },
    {
      "cell_type": "code",
      "source": [
        "from sklearn.metrics import recall_score, accuracy_score, precision_score, classification_report, confusion_matrix, ConfusionMatrixDisplay"
      ],
      "metadata": {
        "id": "tGGA33quZ7bA"
      },
      "execution_count": 11,
      "outputs": []
    },
    {
      "cell_type": "code",
      "source": [
        "knn=KNeighborsClassifier(n_neighbors=9, algorithm='auto', metric='euclidean', weights='distance')\n",
        "knn.fit(x_train, y_train)\n",
        "y_pred_knn=knn.predict(x_test)\n",
        "acc_score_knn=round(accuracy_score(y_test, y_pred_knn),2)\n",
        "jaccard_score_knn = round(jaccard_score(y_test , y_pred_knn, average='micro'),2)\n",
        "f1_score_knn=round(f1_score(y_test, y_pred_knn, average='micro'),2)\n",
        "precision_score_knn=round(precision_score(y_test , y_pred_knn),2)\n",
        "recall_score_knn=round(recall_score(y_test , y_pred_knn),2)"
      ],
      "metadata": {
        "id": "lTasfR44Z7dP"
      },
      "execution_count": 12,
      "outputs": []
    },
    {
      "cell_type": "code",
      "source": [
        "def show_scores(scores, names):\n",
        "    sns.heatmap(scores.T,annot=True, fmt='g', xticklabels=names, yticklabels=['Accuracy', 'Precision', 'Recall', 'F1', 'Jaccard'])\n",
        "    plt.title('Scores')\n",
        "    plt.show()\n",
        "\n",
        "scores = np.array([[acc_score_knn, precision_score_knn, recall_score_knn, f1_score_knn, jaccard_score_knn]]) #,[rand_forest_clf_precision, rand_forest_clf_recall,rand_forest_clf_f1],\n",
        "   # [sgd_clf_precision, sgd_clf_recall,sgd_clf_f1],[svc_clf_precision, svc_clf_recall,svc_clf_f1],[knn_clf_precision, knn_clf_recall, knn_clf_f1]])\n",
        "\n",
        "show_scores(scores,['K-Nearest Neighbors'])"
      ],
      "metadata": {
        "colab": {
          "base_uri": "https://localhost:8080/",
          "height": 281
        },
        "id": "pf_thsGqZ7fo",
        "outputId": "c960170d-2c5a-4379-93ab-ea809e03105e"
      },
      "execution_count": 13,
      "outputs": [
        {
          "output_type": "display_data",
          "data": {
            "text/plain": [
              "<Figure size 432x288 with 2 Axes>"
            ],
            "image/png": "[encoded data removed]"
          },
          "metadata": {
            "needs_background": "light"
          }
        }
      ]
    },
    {
      "cell_type": "code",
      "source": [
        "cm = confusion_matrix(y_test, y_pred_knn)\n",
        "plt.figure(figsize=(10,7))\n",
        "p = sns.heatmap(cm, annot=True, cmap=\"Reds\", fmt='g')\n",
        "plt.title('Matricea de confuzie pentru KNeighborsClassifier')\n",
        "plt.xlabel('Valori prezise' )\n",
        "plt.ylabel('Valori reale')\n",
        "plt.show()"
      ],
      "metadata": {
        "colab": {
          "base_uri": "https://localhost:8080/",
          "height": 458
        },
        "id": "3_c2dam0din1",
        "outputId": "70ce89a9-587a-436a-b5f9-cd832c5d0193"
      },
      "execution_count": 14,
      "outputs": [
        {
          "output_type": "display_data",
          "data": {
            "text/plain": [
              "<Figure size 720x504 with 2 Axes>"
            ],
            "image/png": "[encoded data removed]"
          },
          "metadata": {
            "needs_background": "light"
          }
        }
      ]
    },
    {
      "cell_type": "code",
      "source": [
        "raport_knn = classification_report(y_test, y_pred_knn)\n",
        "print(raport_knn)"
      ],
      "metadata": {
        "colab": {
          "base_uri": "https://localhost:8080/"
        },
        "id": "zO7spSHNdiqj",
        "outputId": "d6600571-8537-4384-f627-063dccbbf05a"
      },
      "execution_count": 15,
      "outputs": [
        {
          "output_type": "stream",
          "name": "stdout",
          "text": [
            "              precision    recall  f1-score   support\n",
            "\n",
            "           0       0.79      0.36      0.49       122\n",
            "           1       0.90      0.98      0.94       683\n",
            "\n",
            "    accuracy                           0.89       805\n",
            "   macro avg       0.84      0.67      0.72       805\n",
            "weighted avg       0.88      0.89      0.87       805\n",
            "\n"
          ]
        }
      ]
    },
    {
      "cell_type": "code",
      "source": [
        "model_accuracy['KNeighborsClassifier']=acc_score_knn\n",
        "model_recall['KNeighborsClassifier']=recall_score_knn\n",
        "model_precision['KNeighborsClassifier']=precision_score_knn\n",
        "model_jaccard['KNeighborsClassifier']=jaccard_score_knn\n",
        "model_f1['KNeighborsClassifier']=f1_score_knn"
      ],
      "metadata": {
        "id": "TV-aCojtditj"
      },
      "execution_count": 16,
      "outputs": []
    },
    {
      "cell_type": "code",
      "source": [],
      "metadata": {
        "id": "0pQASh0Chb5z"
      },
      "execution_count": null,
      "outputs": []
    },
    {
      "cell_type": "code",
      "source": [],
      "metadata": {
        "id": "YqGa_9OXhb8-"
      },
      "execution_count": null,
      "outputs": []
    },
    {
      "cell_type": "code",
      "source": [],
      "metadata": {
        "id": "WdPPnzdahb_7"
      },
      "execution_count": null,
      "outputs": []
    },
    {
      "cell_type": "code",
      "source": [
        "lr=LogisticRegression(C=0.5, intercept_scaling=1,  random_state=42, solver='liblinear', max_iter=100)\n",
        "lr.fit(x_train, y_train)\n",
        "y_pred_lr=lr.predict(x_test)"
      ],
      "metadata": {
        "id": "6CZZQhSCdiwH"
      },
      "execution_count": 17,
      "outputs": []
    },
    {
      "cell_type": "code",
      "source": [
        "acc_score_lr=round(accuracy_score(y_test, y_pred_lr),2)\n",
        "jaccard_score_lr=round(jaccard_score(y_test , y_pred_lr, average='micro'),2)\n",
        "f1_score_lr=round(f1_score(y_test, y_pred_lr, average='micro'),2)\n",
        "precision_score_lr=round(precision_score(y_test , y_pred_lr),2)\n",
        "recall_score_lr=round(recall_score(y_test , y_pred_lr),2)"
      ],
      "metadata": {
        "id": "Cc7Y2ZlFdiyy"
      },
      "execution_count": 18,
      "outputs": []
    },
    {
      "cell_type": "code",
      "source": [
        "def show_scores(scores, names):\n",
        "    sns.heatmap(scores.T,annot=True, fmt='g', xticklabels=names, yticklabels=['Accuracy', 'Precision', 'Recall', 'F1', 'Jaccard'])\n",
        "    plt.title('Scores')\n",
        "    plt.show()\n",
        "\n",
        "scores = np.array([[acc_score_lr, precision_score_lr, recall_score_lr, f1_score_lr, jaccard_score_lr]]) #,[rand_forest_clf_precision, rand_forest_clf_recall,rand_forest_clf_f1],\n",
        "   # [sgd_clf_precision, sgd_clf_recall,sgd_clf_f1],[svc_clf_precision, svc_clf_recall,svc_clf_f1],[knn_clf_precision, knn_clf_recall, knn_clf_f1]])\n",
        "\n",
        "show_scores(scores,['Logistic Regression']) "
      ],
      "metadata": {
        "colab": {
          "base_uri": "https://localhost:8080/",
          "height": 281
        },
        "id": "Pv1tFWIndi1r",
        "outputId": "25c8c876-7aaf-4e4a-934e-d7c4ec14a9a7"
      },
      "execution_count": 19,
      "outputs": [
        {
          "output_type": "display_data",
          "data": {
            "text/plain": [
              "<Figure size 432x288 with 2 Axes>"
            ],
            "image/png": "[encoded data removed]"
          },
          "metadata": {
            "needs_background": "light"
          }
        }
      ]
    },
    {
      "cell_type": "code",
      "source": [
        "raport_lr = classification_report(y_test, y_pred_lr)\n",
        "print(raport_lr)"
      ],
      "metadata": {
        "colab": {
          "base_uri": "https://localhost:8080/"
        },
        "id": "HftdogXUjSvr",
        "outputId": "e479fc87-e35e-44a6-c948-ffd9c62a1468"
      },
      "execution_count": 20,
      "outputs": [
        {
          "output_type": "stream",
          "name": "stdout",
          "text": [
            "              precision    recall  f1-score   support\n",
            "\n",
            "           0       0.77      0.49      0.60       122\n",
            "           1       0.91      0.97      0.94       683\n",
            "\n",
            "    accuracy                           0.90       805\n",
            "   macro avg       0.84      0.73      0.77       805\n",
            "weighted avg       0.89      0.90      0.89       805\n",
            "\n"
          ]
        }
      ]
    },
    {
      "cell_type": "code",
      "source": [
        "cm_lr = confusion_matrix(y_test, y_pred_lr)\n",
        "plt.figure(figsize=(10,7))\n",
        "p = sns.heatmap(cm_lr, annot=True, cmap=\"Reds\", fmt='g')\n",
        "plt.title('Matricea de confuzie pentru Logistic Regression ')\n",
        "plt.xlabel('Valori prezise')\n",
        "plt.ylabel('Valori reale')\n",
        "plt.show()"
      ],
      "metadata": {
        "colab": {
          "base_uri": "https://localhost:8080/",
          "height": 458
        },
        "id": "YT4LPcM8jSyp",
        "outputId": "295aff96-9266-4803-969e-eb4fe3df45a3"
      },
      "execution_count": 21,
      "outputs": [
        {
          "output_type": "display_data",
          "data": {
            "text/plain": [
              "<Figure size 720x504 with 2 Axes>"
            ],
            "image/png": "[encoded data removed]"
          },
          "metadata": {
            "needs_background": "light"
          }
        }
      ]
    },
    {
      "cell_type": "code",
      "source": [
        "model_accuracy['Logistic Regression']=acc_score_lr\n",
        "model_recall['Logistic Regression']=recall_score_lr\n",
        "model_precision['Logistic Regression']=precision_score_lr\n",
        "model_jaccard['Logistic Regression']=jaccard_score_lr\n",
        "model_f1['Logistic Regression']=f1_score_lr"
      ],
      "metadata": {
        "id": "K061IsoFjS19"
      },
      "execution_count": 35,
      "outputs": []
    },
    {
      "cell_type": "code",
      "source": [],
      "metadata": {
        "id": "A0KZLRdrjS4h"
      },
      "execution_count": null,
      "outputs": []
    },
    {
      "cell_type": "code",
      "source": [
        "svm_alg=SVC(kernel='linear', C=0.5)\n",
        "svm_alg.fit(x_train, y_train)\n",
        "y_pred_svm=svm_alg.predict(x_test)"
      ],
      "metadata": {
        "id": "L6njGqhWjS7r"
      },
      "execution_count": null,
      "outputs": []
    },
    {
      "cell_type": "code",
      "source": [
        "acc_score_svm=round(accuracy_score(y_test, y_pred_svm),2)\n",
        "jaccard_score_svm=round(jaccard_score(y_test , y_pred_svm, average='micro'),2)\n",
        "f1_score_svm=round(f1_score(y_test, y_pred_svm, average='micro'),2)\n",
        "precision_score_svm=round(precision_score(y_test , y_pred_svm),2)\n",
        "recall_score_svm=round(recall_score(y_test , y_pred_svm),2)"
      ],
      "metadata": {
        "id": "ioYsKNVyjS-F"
      },
      "execution_count": 25,
      "outputs": []
    },
    {
      "cell_type": "code",
      "source": [
        "def show_scores(scores, names):\n",
        "    sns.heatmap(scores.T,annot=True, fmt='g', xticklabels=names, yticklabels=['Accuracy', 'Precision', 'Recall', 'F1', 'Jaccard'])\n",
        "    plt.title('Scores')\n",
        "    plt.show()\n",
        "\n",
        "scores = np.array([[acc_score_svm, precision_score_svm, recall_score_svm, f1_score_svm, jaccard_score_svm]]) #,[rand_forest_clf_precision, rand_forest_clf_recall,rand_forest_clf_f1],\n",
        "   # [sgd_clf_precision, sgd_clf_recall,sgd_clf_f1],[svc_clf_precision, svc_clf_recall,svc_clf_f1],[knn_clf_precision, knn_clf_recall, knn_clf_f1]])\n",
        "\n",
        "show_scores(scores,['Support Vector Machine']) "
      ],
      "metadata": {
        "colab": {
          "base_uri": "https://localhost:8080/",
          "height": 281
        },
        "id": "9dcIHcD1jTAd",
        "outputId": "d0d28e85-6170-4373-88c8-2f130c0549b6"
      },
      "execution_count": 26,
      "outputs": [
        {
          "output_type": "display_data",
          "data": {
            "text/plain": [
              "<Figure size 432x288 with 2 Axes>"
            ],
            "image/png": "[encoded data removed]"
          },
          "metadata": {
            "needs_background": "light"
          }
        }
      ]
    },
    {
      "cell_type": "code",
      "source": [
        "raport_svm = classification_report(y_test, y_pred_svm)\n",
        "print(raport_svm)"
      ],
      "metadata": {
        "colab": {
          "base_uri": "https://localhost:8080/"
        },
        "id": "g4KukYFEjTEa",
        "outputId": "ea6f461d-b412-4d99-8960-7ef8d7dd2456"
      },
      "execution_count": 27,
      "outputs": [
        {
          "output_type": "stream",
          "name": "stdout",
          "text": [
            "              precision    recall  f1-score   support\n",
            "\n",
            "           0       0.77      0.44      0.56       122\n",
            "           1       0.91      0.98      0.94       683\n",
            "\n",
            "    accuracy                           0.90       805\n",
            "   macro avg       0.84      0.71      0.75       805\n",
            "weighted avg       0.89      0.90      0.88       805\n",
            "\n"
          ]
        }
      ]
    },
    {
      "cell_type": "code",
      "source": [
        "cm_svm = confusion_matrix(y_test, y_pred_svm)\n",
        "plt.figure(figsize=(10,7))\n",
        "p = sns.heatmap(cm_svm, annot=True, cmap=\"Reds\", fmt='g')\n",
        "plt.title('Matricea de confuzie pentru Support Vector Machine ')\n",
        "plt.xlabel('Valori prezise')\n",
        "plt.ylabel('Valori reale')\n",
        "plt.show()"
      ],
      "metadata": {
        "colab": {
          "base_uri": "https://localhost:8080/",
          "height": 458
        },
        "id": "X7zZNrERjTGu",
        "outputId": "4bea2a2c-f760-4e16-bcff-e2c80240d894"
      },
      "execution_count": 28,
      "outputs": [
        {
          "output_type": "display_data",
          "data": {
            "text/plain": [
              "<Figure size 720x504 with 2 Axes>"
            ],
            "image/png": "[encoded data removed]"
          },
          "metadata": {
            "needs_background": "light"
          }
        }
      ]
    },
    {
      "cell_type": "code",
      "source": [
        "model_accuracy['Support Vector Machine']=acc_score_svm\n",
        "model_recall['Support Vector Machine']=recall_score_svm\n",
        "model_precision['Support Vector Machine']=precision_score_svm\n",
        "model_jaccard['Support Vector Machine']=jaccard_score_svm\n",
        "model_f1['Support Vector Machine']=f1_score_svm"
      ],
      "metadata": {
        "id": "lvk4y_ysjTJs"
      },
      "execution_count": 36,
      "outputs": []
    },
    {
      "cell_type": "code",
      "source": [],
      "metadata": {
        "id": "SGGr2twMla9X"
      },
      "execution_count": null,
      "outputs": []
    },
    {
      "cell_type": "code",
      "source": [
        "rf= RandomForestClassifier(n_estimators=100, criterion ='gini', random_state=0)\n",
        "rf.fit(x_train, y_train)\n",
        "y_pred_rf=rf.predict(x_test)"
      ],
      "metadata": {
        "id": "1dJmrQ8rlbBN"
      },
      "execution_count": 29,
      "outputs": []
    },
    {
      "cell_type": "code",
      "source": [
        "acc_score_rf=round(accuracy_score(y_test, y_pred_rf),2)\n",
        "jaccard_score_rf=round(jaccard_score(y_test , y_pred_rf, average='micro'),2)\n",
        "f1_score_rf=round(f1_score(y_test, y_pred_rf, average='micro'),2)\n",
        "precision_score_rf=round(precision_score(y_test , y_pred_rf),2)\n",
        "recall_score_rf=round(recall_score(y_test , y_pred_rf),2)"
      ],
      "metadata": {
        "id": "xMmm8cSmlbDB"
      },
      "execution_count": 30,
      "outputs": []
    },
    {
      "cell_type": "code",
      "source": [
        "def show_scores(scores, names):\n",
        "    sns.heatmap(scores.T,annot=True, fmt='g', xticklabels=names, yticklabels=['Accuracy', 'Precision', 'Recall', 'F1', 'Jaccard'])\n",
        "    plt.title('Scores')\n",
        "    plt.show()\n",
        "\n",
        "scores = np.array([[acc_score_rf, precision_score_rf, recall_score_rf, f1_score_rf, jaccard_score_rf]]) #,[rand_forest_clf_precision, rand_forest_clf_recall,rand_forest_clf_f1],\n",
        "   # [sgd_clf_precision, sgd_clf_recall,sgd_clf_f1],[svc_clf_precision, svc_clf_recall,svc_clf_f1],[knn_clf_precision, knn_clf_recall, knn_clf_f1]])\n",
        "\n",
        "show_scores(scores,['Random Forest'])"
      ],
      "metadata": {
        "id": "7mZk9JwqlfLK",
        "outputId": "34b0953c-6cf1-432e-9e94-ead7f635c527",
        "colab": {
          "base_uri": "https://localhost:8080/",
          "height": 281
        }
      },
      "execution_count": 31,
      "outputs": [
        {
          "output_type": "display_data",
          "data": {
            "text/plain": [
              "<Figure size 432x288 with 2 Axes>"
            ],
            "image/png": "[encoded data removed]"
          },
          "metadata": {
            "needs_background": "light"
          }
        }
      ]
    },
    {
      "cell_type": "code",
      "source": [
        "raport_rf = classification_report(y_test, y_pred_rf)\n",
        "print(raport_rf)"
      ],
      "metadata": {
        "id": "urxBboT3lfNy",
        "outputId": "2db19737-d584-47d4-fb3e-b5dd51b87bed",
        "colab": {
          "base_uri": "https://localhost:8080/"
        }
      },
      "execution_count": 32,
      "outputs": [
        {
          "output_type": "stream",
          "name": "stdout",
          "text": [
            "              precision    recall  f1-score   support\n",
            "\n",
            "           0       0.81      0.51      0.62       122\n",
            "           1       0.92      0.98      0.95       683\n",
            "\n",
            "    accuracy                           0.91       805\n",
            "   macro avg       0.86      0.74      0.78       805\n",
            "weighted avg       0.90      0.91      0.90       805\n",
            "\n"
          ]
        }
      ]
    },
    {
      "cell_type": "code",
      "source": [
        "cm_rf = confusion_matrix(y_test, y_pred_rf)\n",
        "plt.figure(figsize=(10,7))\n",
        "p = sns.heatmap(cm_rf, annot=True, cmap=\"Reds\", fmt='g')\n",
        "plt.title('Matricea de confuzie pentru Random Forest ')\n",
        "plt.xlabel('Valori prezise')\n",
        "plt.ylabel('Valori reale')\n",
        "plt.show()"
      ],
      "metadata": {
        "id": "jZwYOE6_lfQd",
        "outputId": "d3d0be91-2852-428b-b964-623e629923b0",
        "colab": {
          "base_uri": "https://localhost:8080/",
          "height": 458
        }
      },
      "execution_count": 33,
      "outputs": [
        {
          "output_type": "display_data",
          "data": {
            "text/plain": [
              "<Figure size 720x504 with 2 Axes>"
            ],
            "image/png": "[encoded data removed]"
          },
          "metadata": {
            "needs_background": "light"
          }
        }
      ]
    },
    {
      "cell_type": "code",
      "source": [
        "model_accuracy['Random Forest']=acc_score_rf\n",
        "model_recall['Random Forest']=recall_score_rf\n",
        "model_precision['Random Forest']=precision_score_rf\n",
        "model_jaccard['Random Forest']=jaccard_score_rf\n",
        "model_f1['Random Forest']=f1_score_rf"
      ],
      "metadata": {
        "id": "3uEkT2wJlfTS"
      },
      "execution_count": 37,
      "outputs": []
    },
    {
      "cell_type": "code",
      "source": [],
      "metadata": {
        "id": "qZubVKf5mozy"
      },
      "execution_count": null,
      "outputs": []
    },
    {
      "cell_type": "code",
      "source": [
        "models1 = pd.DataFrame(model_accuracy, index=[\"accuracy\"])\n",
        "models1.T.plot.bar(color=\"darkblue\");"
      ],
      "metadata": {
        "id": "8MA8umgomo2g",
        "outputId": "2fbb5177-065c-4a43-efc6-6e00dcff586c",
        "colab": {
          "base_uri": "https://localhost:8080/",
          "height": 374
        }
      },
      "execution_count": 38,
      "outputs": [
        {
          "output_type": "display_data",
          "data": {
            "text/plain": [
              "<Figure size 432x288 with 1 Axes>"
            ],
            "image/png": "[encoded data removed]"
          },
          "metadata": {
            "needs_background": "light"
          }
        }
      ]
    },
    {
      "cell_type": "code",
      "source": [
        "models2 = pd.DataFrame(model_recall, index=[\"recall\"])\n",
        "models2.T.plot.bar(color=\"darkblue\");"
      ],
      "metadata": {
        "id": "ArzVSKzsmo5C",
        "outputId": "6b61eef5-89cb-4315-d782-03c5a7761705",
        "colab": {
          "base_uri": "https://localhost:8080/",
          "height": 374
        }
      },
      "execution_count": 39,
      "outputs": [
        {
          "output_type": "display_data",
          "data": {
            "text/plain": [
              "<Figure size 432x288 with 1 Axes>"
            ],
            "image/png": "[encoded data removed]"
          },
          "metadata": {
            "needs_background": "light"
          }
        }
      ]
    },
    {
      "cell_type": "code",
      "source": [
        "models3 = pd.DataFrame(model_precision, index=[\"precision\"])\n",
        "models3.T.plot.bar(color=\"darkblue\");"
      ],
      "metadata": {
        "id": "fUDex6W0mo7X",
        "outputId": "57c2eeb7-56e1-4a82-dc83-50aafb177ced",
        "colab": {
          "base_uri": "https://localhost:8080/",
          "height": 374
        }
      },
      "execution_count": 40,
      "outputs": [
        {
          "output_type": "display_data",
          "data": {
            "text/plain": [
              "<Figure size 432x288 with 1 Axes>"
            ],
            "image/png": "[encoded data removed]"
          },
          "metadata": {
            "needs_background": "light"
          }
        }
      ]
    },
    {
      "cell_type": "code",
      "source": [
        "models4 = pd.DataFrame(model_f1, index=[\"f1-score\"])\n",
        "models4.T.plot.bar(color=\"darkblue\");"
      ],
      "metadata": {
        "id": "GSpZXlbGnMZX",
        "outputId": "45b56b84-575f-482d-9637-5aec1258d7f2",
        "colab": {
          "base_uri": "https://localhost:8080/",
          "height": 374
        }
      },
      "execution_count": 41,
      "outputs": [
        {
          "output_type": "display_data",
          "data": {
            "text/plain": [
              "<Figure size 432x288 with 1 Axes>"
            ],
            "image/png": "[encoded data removed]"
          },
          "metadata": {
            "needs_background": "light"
          }
        }
      ]
    },
    {
      "cell_type": "code",
      "source": [
        "models5 = pd.DataFrame(model_jaccard, index=[\"jaccard\"])\n",
        "models5.T.plot.bar(color=\"darkblue\");"
      ],
      "metadata": {
        "id": "OB2-d4GAnMcG",
        "outputId": "5d532028-580c-4f40-8b73-76fbe2f5be7d",
        "colab": {
          "base_uri": "https://localhost:8080/",
          "height": 374
        }
      },
      "execution_count": 42,
      "outputs": [
        {
          "output_type": "display_data",
          "data": {
            "text/plain": [
              "<Figure size 432x288 with 1 Axes>"
            ],
            "image/png": "[encoded data removed]"
          },
          "metadata": {
            "needs_background": "light"
          }
        }
      ]
    },
    {
      "cell_type": "code",
      "source": [],
      "metadata": {
        "id": "0L8BtoKOnMiB"
      },
      "execution_count": null,
      "outputs": []
    },
    {
      "cell_type": "code",
      "source": [],
      "metadata": {
        "id": "Jh_IwtAWlfZP"
      },
      "execution_count": null,
      "outputs": []
    },
    {
      "cell_type": "code",
      "source": [],
      "metadata": {
        "id": "8ZLnXlVxlfbn"
      },
      "execution_count": null,
      "outputs": []
    },
    {
      "cell_type": "code",
      "source": [],
      "metadata": {
        "id": "zzfe_n83lfjV"
      },
      "execution_count": null,
      "outputs": []
    },
    {
      "cell_type": "code",
      "source": [
        "from imblearn.over_sampling import SMOTE\n",
        "from sklearn import linear_model, decomposition, datasets\n",
        "from imblearn.pipeline import Pipeline, make_pipeline\n",
        "from sklearn.model_selection import GridSearchCV\n",
        "from sklearn.preprocessing import StandardScaler"
      ],
      "metadata": {
        "id": "qftbLh4_di5T"
      },
      "execution_count": 44,
      "outputs": []
    },
    {
      "cell_type": "code",
      "source": [
        "x_train_over, x_test_over, y_train_over, y_test_over= train_test_split(x, y, test_size=0.2, random_state=42)"
      ],
      "metadata": {
        "id": "vUsMisDDdyzX"
      },
      "execution_count": 45,
      "outputs": []
    },
    {
      "cell_type": "code",
      "source": [
        "import warnings\n",
        "warnings.filterwarnings(\"ignore\")\n",
        "\n",
        "LR=LogisticRegression()\n",
        "\n",
        "pipe_lr= Pipeline ([\n",
        "    ('scaler', StandardScaler()),\n",
        "    ('oversampling', RandomOverSampler(sampling_strategy='not majority')),\n",
        "    ('LR', LR)\n",
        "])\n",
        "\n",
        "C_list_lr=[0.001, 0.01, 0.5, 0.1, 1, 10, 100 ]\n",
        "solver_list_lr=[ 'liblinear', 'newton-cg', 'saga']\n",
        "penalty_list_lr=[None, 'elasticnet', 'l1', 'l2']\n",
        "max_iter_list_lr=[100, 1000, 3000]\n",
        "random_state_list_lr=[None, 20, 42 ]\n",
        "param_grid_lr = {\n",
        "    'LR__C': C_list_lr, \n",
        "    'LR__solver': solver_list_lr,\n",
        "    'LR__penalty': penalty_list_lr,\n",
        "    'LR__max_iter': max_iter_list_lr,\n",
        "    'LR__random_state': random_state_list_lr\n",
        "}\n",
        "\n",
        "\n",
        "grid_lr = GridSearchCV(pipe_lr, param_grid_lr, cv=5, scoring='accuracy', return_train_score=False)\n",
        "grid_lr.fit(x_train_over, y_train_over)"
      ],
      "metadata": {
        "colab": {
          "base_uri": "https://localhost:8080/"
        },
        "id": "iIIGro8wdy28",
        "outputId": "0c30ca49-07e2-4c5c-b489-20917cd539a2"
      },
      "execution_count": 28,
      "outputs": [
        {
          "output_type": "execute_result",
          "data": {
            "text/plain": [
              "GridSearchCV(cv=5,\n",
              "             estimator=Pipeline(steps=[('scaler', StandardScaler()),\n",
              "                                       ('LR', LogisticRegression())]),\n",
              "             param_grid={'LR__C': [0.001, 0.01, 0.1, 1, 10, 100],\n",
              "                         'LR__max_iter': [100, 1000, 3000],\n",
              "                         'LR__penalty': [None, 'elasticnet', 'l1', 'l2'],\n",
              "                         'LR__random_state': [None, 20, 42],\n",
              "                         'LR__solver': ['liblinear', 'newton-cg', 'saga']},\n",
              "             scoring='accuracy')"
            ]
          },
          "metadata": {},
          "execution_count": 28
        }
      ]
    },
    {
      "cell_type": "code",
      "source": [
        "print(grid_lr.best_params_)"
      ],
      "metadata": {
        "colab": {
          "base_uri": "https://localhost:8080/"
        },
        "id": "4CIZeuzPdy5U",
        "outputId": "1ca3163f-182a-40a6-e6d7-ffc357e06c52"
      },
      "execution_count": 29,
      "outputs": [
        {
          "output_type": "stream",
          "name": "stdout",
          "text": [
            "{'LR__C': 1, 'LR__max_iter': 100, 'LR__penalty': 'l2', 'LR__random_state': None, 'LR__solver': 'liblinear'}\n"
          ]
        }
      ]
    },
    {
      "cell_type": "code",
      "source": [
        "prediction_lr=grid_lr.predict(x_test_over)\n",
        "grid_lr_matrix = confusion_matrix(y_test_over, prediction_lr)\n",
        "\n",
        "plt.figure(figsize=(10,7))\n",
        "p = sns.heatmap(grid_lr_matrix, annot=True, cmap=\"Reds\", fmt='g')\n",
        "plt.title('Matricea de confuzie pentru Logistic Regression ')\n",
        "plt.xlabel('Valori prezise')\n",
        "plt.ylabel('Valori reale')\n",
        "plt.show()"
      ],
      "metadata": {
        "colab": {
          "base_uri": "https://localhost:8080/",
          "height": 458
        },
        "id": "MlPmGkuceoLC",
        "outputId": "f2f623c1-5acb-4487-c87c-bdf1f0be05f2"
      },
      "execution_count": 30,
      "outputs": [
        {
          "output_type": "display_data",
          "data": {
            "text/plain": [
              "<Figure size 720x504 with 2 Axes>"
            ],
            "image/png": "[encoded data removed]"
          },
          "metadata": {
            "needs_background": "light"
          }
        }
      ]
    },
    {
      "cell_type": "code",
      "source": [
        "acc_score_lr=round(accuracy_score(y_test_over, prediction_lr),2)\n",
        "jaccard_score_lr=round(jaccard_score(y_test_over , prediction_lr, average='micro'),2)\n",
        "f1_score_lr=round(f1_score(y_test_over, prediction_lr, average='micro'),2)\n",
        "precision_score_lr=round(precision_score(y_test_over , prediction_lr),2)\n",
        "recall_score_lr=round(recall_score(y_test_over , prediction_lr),2)"
      ],
      "metadata": {
        "id": "llY0XzdJeoN4"
      },
      "execution_count": 31,
      "outputs": []
    },
    {
      "cell_type": "code",
      "source": [
        "def show_scores(scores, names):\n",
        "    sns.heatmap(scores.T,annot=True, fmt='g', xticklabels=names, yticklabels=['Accuracy', 'Precision', 'Recall', 'F1', 'Jaccard'])\n",
        "    plt.title('Scores')\n",
        "    plt.show()\n",
        "\n",
        "scores = np.array([[acc_score_lr, precision_score_lr, recall_score_lr, f1_score_lr, jaccard_score_lr]]) #,[rand_forest_clf_precision, rand_forest_clf_recall,rand_forest_clf_f1],\n",
        "   # [sgd_clf_precision, sgd_clf_recall,sgd_clf_f1],[svc_clf_precision, svc_clf_recall,svc_clf_f1],[knn_clf_precision, knn_clf_recall, knn_clf_f1]])\n",
        "\n",
        "show_scores(scores,['Logistic Regression']) "
      ],
      "metadata": {
        "colab": {
          "base_uri": "https://localhost:8080/",
          "height": 281
        },
        "id": "RBYrT4iieoQX",
        "outputId": "aa5e0734-af66-4426-870d-4ed2d48127c5"
      },
      "execution_count": 32,
      "outputs": [
        {
          "output_type": "display_data",
          "data": {
            "text/plain": [
              "<Figure size 432x288 with 2 Axes>"
            ],
            "image/png": "[encoded data removed]"
          },
          "metadata": {
            "needs_background": "light"
          }
        }
      ]
    },
    {
      "cell_type": "code",
      "source": [],
      "metadata": {
        "id": "uuoT9pt4rV_c"
      },
      "execution_count": null,
      "outputs": []
    },
    {
      "cell_type": "code",
      "source": [
        "import warnings\n",
        "warnings.filterwarnings(\"ignore\")\n",
        "\n",
        "KNN=KNeighborsClassifier()\n",
        "\n",
        "pipe_knn= Pipeline ([\n",
        "    ('scaler', StandardScaler()),\n",
        "    ('oversampling', RandomOverSampler(sampling_strategy='not majority')),\n",
        "    ('KNN', KNN)\n",
        "])\n",
        "\n",
        "neighbors = list(range(2,31))\n",
        "weights_knn=['uniform', 'distance']\n",
        "metric_knn=['euclidean', 'manhattan', 'l1', 'l2', 'minkowski']\n",
        "p_knn=[1,2]\n",
        "param_grid = {\n",
        "    'KNN__n_neighbors': neighbors, \n",
        "    'KNN__weights': weights_knn,\n",
        "    'KNN__metric': metric_knn,\n",
        "    'KNN__p': p_knn\n",
        "}\n",
        "\n",
        "\n",
        "grid_knn = GridSearchCV(pipe_knn, param_grid, cv=5, scoring='recall', return_train_score=False)\n",
        "grid_knn.fit(x_train_over, y_train_over)"
      ],
      "metadata": {
        "id": "wOTHkHsUrWNb",
        "outputId": "ba9329bd-c3cd-480c-cc14-f097ed0d133c",
        "colab": {
          "base_uri": "https://localhost:8080/"
        }
      },
      "execution_count": 52,
      "outputs": [
        {
          "output_type": "execute_result",
          "data": {
            "text/plain": [
              "GridSearchCV(cv=5,\n",
              "             estimator=Pipeline(steps=[('scaler', StandardScaler()),\n",
              "                                       ('oversampling',\n",
              "                                        RandomOverSampler(sampling_strategy='not '\n",
              "                                                                            'majority')),\n",
              "                                       ('KNN', KNeighborsClassifier())]),\n",
              "             param_grid={'KNN__metric': ['euclidean', 'manhattan', 'l1', 'l2',\n",
              "                                         'minkowski'],\n",
              "                         'KNN__n_neighbors': [2, 3, 4, 5, 6, 7, 8, 9, 10, 11,\n",
              "                                              12, 13, 14, 15, 16, 17, 18, 19,\n",
              "                                              20, 21, 22, 23, 24, 25, 26, 27,\n",
              "                                              28, 29, 30],\n",
              "                         'KNN__p': [1, 2],\n",
              "                         'KNN__weights': ['uniform', 'distance']},\n",
              "             scoring='recall')"
            ]
          },
          "metadata": {},
          "execution_count": 52
        }
      ]
    },
    {
      "cell_type": "code",
      "source": [
        "print(grid_knn.best_params_)"
      ],
      "metadata": {
        "id": "r9-6m0W2rWO2",
        "outputId": "a3a1171e-daae-40e5-8a17-46d9fbbe6b55",
        "colab": {
          "base_uri": "https://localhost:8080/"
        }
      },
      "execution_count": 53,
      "outputs": [
        {
          "output_type": "stream",
          "name": "stdout",
          "text": [
            "{'KNN__metric': 'euclidean', 'KNN__n_neighbors': 2, 'KNN__p': 1, 'KNN__weights': 'distance'}\n"
          ]
        }
      ]
    },
    {
      "cell_type": "code",
      "source": [
        "prediction_knn=grid_knn.predict(x_test_over)\n",
        "grid_knn_matrix = confusion_matrix(y_test_over, prediction_knn)\n",
        "\n",
        "plt.figure(figsize=(10,7))\n",
        "p = sns.heatmap(grid_knn_matrix, annot=True, cmap=\"Reds\", fmt='g')\n",
        "plt.title('Matricea de confuzie pentru K-Nearest Neighbors ')\n",
        "plt.xlabel('Valori prezise')\n",
        "plt.ylabel('Valori reale')\n",
        "plt.show()"
      ],
      "metadata": {
        "id": "Y__CtcWMrWQB",
        "outputId": "56d7ccea-3c1b-48ec-9743-f64906e133e6",
        "colab": {
          "base_uri": "https://localhost:8080/",
          "height": 458
        }
      },
      "execution_count": 54,
      "outputs": [
        {
          "output_type": "display_data",
          "data": {
            "text/plain": [
              "<Figure size 720x504 with 2 Axes>"
            ],
            "image/png": "[encoded data removed]"
          },
          "metadata": {
            "needs_background": "light"
          }
        }
      ]
    },
    {
      "cell_type": "code",
      "source": [
        "acc_score_knn=round(accuracy_score(y_test_over, prediction_knn),2)\n",
        "jaccard_score_knn=round(jaccard_score(y_test_over , prediction_knn, average='micro'),2)\n",
        "f1_score_knn=round(f1_score(y_test_over, prediction_knn, average='micro'),2)\n",
        "precision_score_knn=round(precision_score(y_test_over , prediction_knn),2)\n",
        "recall_score_knn=round(recall_score(y_test_over , prediction_knn),2)"
      ],
      "metadata": {
        "id": "4_TwQE6ArWRO"
      },
      "execution_count": 55,
      "outputs": []
    },
    {
      "cell_type": "code",
      "source": [
        "def show_scores(scores, names):\n",
        "    sns.heatmap(scores.T,annot=True, fmt='g', xticklabels=names, yticklabels=['Accuracy', 'Precision', 'Recall', 'F1', 'Jaccard'])\n",
        "    plt.title('Scores')\n",
        "    plt.show()\n",
        "\n",
        "scores = np.array([[acc_score_knn, precision_score_knn, recall_score_knn, f1_score_knn, jaccard_score_knn]]) #,[rand_forest_clf_precision, rand_forest_clf_recall,rand_forest_clf_f1],\n",
        "   # [sgd_clf_precision, sgd_clf_recall,sgd_clf_f1],[svc_clf_precision, svc_clf_recall,svc_clf_f1],[knn_clf_precision, knn_clf_recall, knn_clf_f1]])\n",
        "\n",
        "show_scores(scores,['K-Nearest Neighbors']) "
      ],
      "metadata": {
        "id": "NE8-Qlnwtnuu",
        "outputId": "392970a6-598c-41d9-9d78-dd2f808def9f",
        "colab": {
          "base_uri": "https://localhost:8080/",
          "height": 281
        }
      },
      "execution_count": 56,
      "outputs": [
        {
          "output_type": "display_data",
          "data": {
            "text/plain": [
              "<Figure size 432x288 with 2 Axes>"
            ],
            "image/png": "[encoded data removed]"
          },
          "metadata": {
            "needs_background": "light"
          }
        }
      ]
    },
    {
      "cell_type": "code",
      "source": [
        "raport_rf = classification_report(y_test_over, prediction_knn)\n",
        "print(raport_rf)"
      ],
      "metadata": {
        "id": "22E_HKvUtnxh",
        "outputId": "3cb0f14d-bed7-44ef-cadc-f0b3c8b962bb",
        "colab": {
          "base_uri": "https://localhost:8080/"
        }
      },
      "execution_count": 57,
      "outputs": [
        {
          "output_type": "stream",
          "name": "stdout",
          "text": [
            "              precision    recall  f1-score   support\n",
            "\n",
            "           0       0.58      0.52      0.55       122\n",
            "           1       0.92      0.93      0.92       683\n",
            "\n",
            "    accuracy                           0.87       805\n",
            "   macro avg       0.75      0.72      0.73       805\n",
            "weighted avg       0.86      0.87      0.87       805\n",
            "\n"
          ]
        }
      ]
    },
    {
      "cell_type": "code",
      "source": [],
      "metadata": {
        "id": "3WozmsKIrWSp"
      },
      "execution_count": null,
      "outputs": []
    },
    {
      "cell_type": "code",
      "source": [],
      "metadata": {
        "id": "R_eWWYIorWXC"
      },
      "execution_count": null,
      "outputs": []
    }
  ]
}